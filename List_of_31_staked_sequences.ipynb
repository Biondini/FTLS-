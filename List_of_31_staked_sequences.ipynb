{
 "cells": [
  {
   "cell_type": "markdown",
   "id": "94b13adb",
   "metadata": {},
   "source": [
    "# Analysis of the 31 -staked sequences\n",
    "The analysis has been conducted using the new FTLS software developed in python. "
   ]
  },
  {
   "cell_type": "code",
   "execution_count": 5,
   "id": "c1dc9575",
   "metadata": {},
   "outputs": [
    {
     "data": {
      "text/html": [
       "        <script type=\"text/javascript\">\n",
       "        window.PlotlyConfig = {MathJaxConfig: 'local'};\n",
       "        if (window.MathJax) {MathJax.Hub.Config({SVG: {font: \"STIX-Web\"}});}\n",
       "        if (typeof require !== 'undefined') {\n",
       "        require.undef(\"plotly\");\n",
       "        requirejs.config({\n",
       "            paths: {\n",
       "                'plotly': ['https://cdn.plot.ly/plotly-2.8.3.min']\n",
       "            }\n",
       "        });\n",
       "        require(['plotly'], function(Plotly) {\n",
       "            window._Plotly = Plotly;\n",
       "        });\n",
       "        }\n",
       "        </script>\n",
       "        "
      ]
     },
     "metadata": {},
     "output_type": "display_data"
    },
    {
     "data": {
      "text/html": [
       "        <script type=\"text/javascript\">\n",
       "        window.PlotlyConfig = {MathJaxConfig: 'local'};\n",
       "        if (window.MathJax) {MathJax.Hub.Config({SVG: {font: \"STIX-Web\"}});}\n",
       "        if (typeof require !== 'undefined') {\n",
       "        require.undef(\"plotly\");\n",
       "        requirejs.config({\n",
       "            paths: {\n",
       "                'plotly': ['https://cdn.plot.ly/plotly-2.8.3.min']\n",
       "            }\n",
       "        });\n",
       "        require(['plotly'], function(Plotly) {\n",
       "            window._Plotly = Plotly;\n",
       "        });\n",
       "        }\n",
       "        </script>\n",
       "        "
      ]
     },
     "metadata": {},
     "output_type": "display_data"
    },
    {
     "name": "stdout",
     "output_type": "stream",
     "text": [
      "print function loaded\n"
     ]
    }
   ],
   "source": [
    "%run C:\\Users\\MANU\\Funcion_plots.ipynb"
   ]
  },
  {
   "cell_type": "markdown",
   "id": "f583fdf3",
   "metadata": {},
   "source": [
    "## Contents\n",
    "<a id=\"top\"></a>"
   ]
  },
  {
   "cell_type": "markdown",
   "id": "00e9cffa",
   "metadata": {},
   "source": [
    "- [Summary Table](#Summary-Table)\n",
    "### [California earthquakes](#California)\n",
    "- [Coalinga 2 May 1983](#Coalinga)\n",
    "- [Morgan Hill 24 Apr 1984](#Morgan-Hill)\n",
    "- [Round Valley 23 Nov 1984](#Round-Valley)\n",
    "- [Chalfant Valley 21 Jul 1986](#Chalfant-Valley)\n",
    "- [Sperstition Hills 24 Nov 1987](#Superstition-Hills)\n",
    "- [Loma Pireta 18 Oct 1989](#Loma-Pireta)\n",
    "- [Honeydew 17 Aug 1991](#Honeydew)\n",
    "- [Joshua Tree 23 Apr 1992](#Joshua-Tree)\n",
    "- [Landers 28 Jun 1992](#Landers)\n",
    "- [Eureka Valley 17 May 1993](#Eureka-Valley)\n",
    "- [Northbridge 17 Jan 1994](#Northbridge)\n",
    "- [Hector Mine 16 Oct 1999](#Hector-Mine)\n",
    "- [San Simeon 22 Dec 2003](#SanSimeon)\n",
    "- [Parkfield 28 Sep 2004](#Parkfield)\n",
    "- [El Mayor Cucapah 4 Apr 2010](#El-Mayor-Cucapah)\n",
    "### [Japan earthquakes](#Japan)\n",
    "- [Tottori 6 Oct 2000](#Tottori)\n",
    "- [Ryukyu 18 Dec 2001](#Ryukyu)\n",
    "- [Chuetsu 23 Oct 2004](#Chuetsu)\n",
    "- [Fukuoka 20 Mar 2005](#Fukuoka)\n",
    "- [Noto 25 Mar 2007](#Noto)\n",
    "- [Chuetsu Offshore 16 Jul 2007](#Chuetsu-Offshore)\n",
    "- [Iwate 13 Jun 2008](#Iwate)\n",
    "- [Numata, Gunma 25 feb 2013](#Numata-Gunma)\n",
    "- [Awaji Island 12 Apr 2013](#Awaji-Island)\n",
    "- [Miyazaki 28 Aug 2014](#Miyazaki)\n",
    "- [Nagano 22 Nov 2014](#Nagano)\n",
    "- [Fukushima 21 Nov 2016](#Fukushima)\n",
    "### [Italy earthquakes](#Italy)\n",
    "- [L'Aquila 6 Apr 2009](#L'Aquila)\n",
    "### [Alaska earthquakes](#Alaska)\n",
    "- [Denali 3 Nov 2002](#Denali)"
   ]
  },
  {
   "cell_type": "markdown",
   "id": "1efc9e70",
   "metadata": {},
   "source": [
    "# Summary Table\n",
    "<a id=\"Summary-Table\"></a>"
   ]
  },
  {
   "cell_type": "code",
   "execution_count": 4,
   "id": "6bdff86e",
   "metadata": {},
   "outputs": [
    {
     "data": {
      "text/markdown": [
       "| Earthquake       | Date                       |   Magnitude |   b_ref |   b-Max90 |   Strike |   Dip |   Rake | Fault type   |\n",
       "|:-----------------|:---------------------------|------------:|--------:|----------:|---------:|------:|-------:|:-------------|\n",
       "| Coalinga         | 1983-05-02 23:42:38.060    |        6.7  |    0.75 |   136.323 |      320 |    30 |     87 | TH           |\n",
       "| Morgan Hill      | 1984-04-24 21:15:18.760000 |        6.2  |    0.81 |   101.752 |      333 |    76 |    179 | SS           |\n",
       "| Round Valley     | 1984-11-23 18:08:25.360000 |        6.1  |    0.69 |   160.325 |      221 |    82 |    -43 | UN           |\n",
       "| Chalfant Valley  | 1986-07-21 14:42:26        |        6.4  |    0.67 |   217.43  |      149 |    60 |   -163 | SN           |\n",
       "| Loma Pireta      | 1989-10-18 00:04:15.190000 |        6.9  |    0.98 |   151.084 |      123 |    71 |    128 | UN           |\n",
       "| Joshua Tree      | 1992-04-23 04:50:23.230000 |        6.1  |    0.97 |   135.638 |      171 |    89 |   -177 | SS           |\n",
       "| Landers          | 1992-06-28 11:57:34.130000 |        7.3  |    0.93 |   172.274 |      341 |    70 |   -172 | SS           |\n",
       "| Northbridge      | 1994-01-17 12:30:55.390000 |        6.7  |    0.91 |   137.901 |      130 |    53 |    111 | TH           |\n",
       "| Hector Mine      | 1999-10-16 09:46:44.460000 |        7.1  |    0.84 |   222.947 |      336 |    80 |    174 | SS           |\n",
       "| San Simeon       | 2003-12-22 19:15:56.240000 |        6.5  |    0.9  |   131.802 |      296 |    32 |     88 | TH           |\n",
       "| Parkfield        | 2004-09-28 17:15:24.250000 |        5.97 |    0.82 |   121.887 |      321 |    72 |   -178 | SS           |\n",
       "| El Mayor Cucapah | 2010-04-04 22:40:42.360000 |        7.2  |    0.91 |   162.139 |      313 |    88 |   -174 | SS           |\n",
       "| Tottori          | 2000-10-06 04:30:17.940000 |        7.3  |    0.72 |   229.377 |      331 |    83 |      1 | SS           |\n",
       "| Ryukyu           | 2001-12-18 04:02:59.360000 |        7.3  |    0.92 |   133.56  |      204 |    59 |    -53 | SN           |\n",
       "| Chuetsu          | 2004-10-23 09:34:05.690000 |        6.5  |    0.76 |   137.81  |      215 |    62 |     91 | TH           |\n",
       "| Fukuoka          | 2005-03-20 01:53:40.320000 |        7    |    0.83 |   137.563 |      302 |    88 |    -14 | SS           |\n",
       "| Noto             | 2007-03-25 00:41:57.910000 |        6.9  |    0.71 |   137.089 |       34 |    40 |    108 | TH           |\n",
       "| Chuetsu Offshore | 2007-07-16 01:13:22.550000 |        6.8  |    1.06 |   117.505 |      225 |    60 |     94 | TH           |\n",
       "| Iwate            | 2008-06-13 23:43:45.360000 |        7.2  |    0.84 |   182.838 |       17 |    42 |     87 | TH           |\n",
       "| Numata, Gunma    | 2013-02-25 07:23:53.580000 |        6.3  |    0.72 |   140.832 |      346 |    85 |     -1 | SS           |\n",
       "| Awaji Island     | 2013-04-12 20:33:17.750000 |        6.3  |    0.66 |   133.205 |      180 |    68 |     98 | TH           |\n",
       "| Nagano           | 2014-11-22 13:08:17.900000 |        6.7  |    0.75 |   132.316 |       15 |    41 |     49 | TH           |\n",
       "| Fukushima        | 2016-11-21 20:59:46.890000 |        7.4  |    0.95 |   150.176 |       49 |    35 |    -89 | NR           |\n",
       "| L'Aquila         | 2009-04-06 01:32:40.400000 |        6.29 |    0.82 |   188.452 |      336 |    42 |    -62 | NR           |\n",
       "| Denali           | 2002-11-03 22:12:41.518000 |        7.9  |    0.85 |   132.771 |       29 |    82 |     19 | SS           |"
      ],
      "text/plain": [
       "<IPython.core.display.Markdown object>"
      ]
     },
     "metadata": {},
     "output_type": "display_data"
    }
   ],
   "source": [
    "df=pd.read_csv(r'C:\\Users\\MANU\\PycharmProjects\\ftls_v11-4CLASSES_sensitivity\\OUTPUT.csv', index_col=False)\n",
    "# df_nuova_riga=table_specific(folder, earthquake)\n",
    "# df_nuova_riga=table_specific(folder, earthquake)\n",
    "from IPython.display import display, Markdown\n",
    "df = df.to_markdown(index=False)\n",
    "display(Markdown(df))"
   ]
  },
  {
   "cell_type": "markdown",
   "id": "d1e453ca",
   "metadata": {},
   "source": [
    "# California Eartquakes \n",
    "<a id=\"California\"></a>\n",
    "[Index](#top)"
   ]
  },
  {
   "cell_type": "markdown",
   "id": "78557ac2",
   "metadata": {},
   "source": [
    "## Coalinga\n",
    "### Date: 2 May 1983 23:42:38\n",
    "### m = 6.7\n",
    "<a id=\"Coalinga\"></a>\n",
    "[Index](#top)"
   ]
  },
  {
   "cell_type": "code",
   "execution_count": null,
   "id": "085177f1",
   "metadata": {},
   "outputs": [],
   "source": [
    "earthquake='Coalinga'\n",
    "folder = r'C:\\Users\\MANU\\PycharmProjects\\ftls_v11-4CLASSES_sensitivity\\ftls_events\\1983_05_02_T_23_42_38_M67CAL_staking'\n",
    "bar_chart_fp(folder)"
   ]
  },
  {
   "cell_type": "code",
   "execution_count": null,
   "id": "d95e57de",
   "metadata": {},
   "outputs": [],
   "source": [
    "plot_box_3d(folder)"
   ]
  },
  {
   "cell_type": "code",
   "execution_count": null,
   "id": "68d52143",
   "metadata": {},
   "outputs": [],
   "source": [
    "scatter_plot_evs(folder)"
   ]
  },
  {
   "cell_type": "code",
   "execution_count": null,
   "id": "a077e095",
   "metadata": {},
   "outputs": [],
   "source": []
  },
  {
   "cell_type": "code",
   "execution_count": null,
   "id": "fa9a452a",
   "metadata": {},
   "outputs": [],
   "source": []
  },
  {
   "cell_type": "code",
   "execution_count": null,
   "id": "120638ac",
   "metadata": {},
   "outputs": [],
   "source": [
    "temporal_series_b(folder)"
   ]
  },
  {
   "cell_type": "code",
   "execution_count": null,
   "id": "cf189d8d",
   "metadata": {},
   "outputs": [],
   "source": [
    "alert_status_plot(folder)"
   ]
  },
  {
   "cell_type": "code",
   "execution_count": null,
   "id": "bfcbde47",
   "metadata": {},
   "outputs": [],
   "source": []
  },
  {
   "cell_type": "code",
   "execution_count": null,
   "id": "242c3cba",
   "metadata": {},
   "outputs": [],
   "source": [
    "df_nuova_riga=table_specific(folder, earthquake)\n",
    "df_nuova_riga=table_specific(folder, earthquake)\n",
    "from IPython.display import display, Markdown\n",
    "df_nuova_riga = df_nuova_riga.to_markdown(index=False)\n",
    "display(Markdown(df_nuova_riga))"
   ]
  },
  {
   "cell_type": "markdown",
   "id": "5601220d",
   "metadata": {},
   "source": [
    "## Morgan Hill\n",
    "### Date: 24 Apr 1984 21:15:18\n",
    "### m = 6.2\n",
    "<a id=\"Morgan-Hill\"></a>\n",
    "[Index](#top)"
   ]
  },
  {
   "cell_type": "code",
   "execution_count": null,
   "id": "48dcd490",
   "metadata": {},
   "outputs": [],
   "source": [
    "earthquake='Morgan Hill'\n",
    "folder = r'C:\\Users\\MANU\\PycharmProjects\\ftls_v11-4CLASSES_sensitivity\\ftls_events\\1984_04_24_T_21_15_18_M62CAL_staking'\n",
    "bar_chart_fp(folder)"
   ]
  },
  {
   "cell_type": "code",
   "execution_count": null,
   "id": "fcc76cf7",
   "metadata": {},
   "outputs": [],
   "source": [
    "plot_box_3d(folder)"
   ]
  },
  {
   "cell_type": "code",
   "execution_count": null,
   "id": "d11c6a30",
   "metadata": {},
   "outputs": [],
   "source": [
    "scatter_plot_evs(folder)"
   ]
  },
  {
   "cell_type": "code",
   "execution_count": null,
   "id": "b09a34ed",
   "metadata": {},
   "outputs": [],
   "source": [
    "temporal_series_b(folder)"
   ]
  },
  {
   "cell_type": "code",
   "execution_count": null,
   "id": "16d3bfe8",
   "metadata": {},
   "outputs": [],
   "source": [
    "alert_status_plot(folder)"
   ]
  },
  {
   "cell_type": "code",
   "execution_count": null,
   "id": "e15ce9d3",
   "metadata": {},
   "outputs": [],
   "source": [
    "df_nuova_riga=table_specific(folder, earthquake)\n",
    "df_nuova_riga=table_specific(folder, earthquake)\n",
    "from IPython.display import display, Markdown\n",
    "df_nuova_riga = df_nuova_riga.to_markdown(index=False)\n",
    "display(Markdown(df_nuova_riga))"
   ]
  },
  {
   "cell_type": "markdown",
   "id": "3f0ac629",
   "metadata": {},
   "source": [
    "## Round Valley\n",
    "### Date: 23 Nov 1984 18:08:25\n",
    "### m = 6.1\n",
    "<a id=\"Round-Valley\"></a>\n",
    "[Index](#top)"
   ]
  },
  {
   "cell_type": "code",
   "execution_count": null,
   "id": "63e97e12",
   "metadata": {},
   "outputs": [],
   "source": [
    "earthquake='Round Valley'\n",
    "folder = r'C:\\Users\\MANU\\PycharmProjects\\ftls_v11-4CLASSES_sensitivity\\ftls_events\\1984_11_23_T_18_08_25_M61CAL_staking'\n",
    "bar_chart_fp(folder)"
   ]
  },
  {
   "cell_type": "code",
   "execution_count": null,
   "id": "791231f3",
   "metadata": {},
   "outputs": [],
   "source": [
    "plot_box_3d(folder)"
   ]
  },
  {
   "cell_type": "code",
   "execution_count": null,
   "id": "3ef1614d",
   "metadata": {},
   "outputs": [],
   "source": [
    "scatter_plot_evs(folder)"
   ]
  },
  {
   "cell_type": "code",
   "execution_count": null,
   "id": "f92f5c04",
   "metadata": {},
   "outputs": [],
   "source": [
    "temporal_series_b(folder)"
   ]
  },
  {
   "cell_type": "code",
   "execution_count": null,
   "id": "6f4476cb",
   "metadata": {},
   "outputs": [],
   "source": [
    "alert_status_plot(folder)"
   ]
  },
  {
   "cell_type": "code",
   "execution_count": null,
   "id": "18b7882c",
   "metadata": {},
   "outputs": [],
   "source": [
    "df_nuova_riga=table_specific(folder, earthquake)\n",
    "df_nuova_riga=table_specific(folder, earthquake)\n",
    "from IPython.display import display, Markdown\n",
    "df_nuova_riga = df_nuova_riga.to_markdown(index=False)\n",
    "display(Markdown(df_nuova_riga))"
   ]
  },
  {
   "cell_type": "markdown",
   "id": "26dcc578",
   "metadata": {},
   "source": [
    "## Chalfant Valley\n",
    "### Date: 21 Jul 1986 14:42:26\n",
    "### m = 6.4\n",
    "<a id=\"Chalfant-Valley\"></a>\n",
    "[Index](#top)\n",
    "\n",
    "\n"
   ]
  },
  {
   "cell_type": "code",
   "execution_count": null,
   "id": "ae95f433",
   "metadata": {},
   "outputs": [],
   "source": [
    "earthquake='Chalfant Valley'\n",
    "folder = r'C:\\Users\\MANU\\PycharmProjects\\ftls_v11-4CLASSES_sensitivity\\ftls_events\\1986_07_21_T_14_42_26_M64CAL_staking'\n",
    "bar_chart_fp(folder)"
   ]
  },
  {
   "cell_type": "code",
   "execution_count": null,
   "id": "3df90ded",
   "metadata": {},
   "outputs": [],
   "source": [
    "plot_box_3d(folder)"
   ]
  },
  {
   "cell_type": "code",
   "execution_count": null,
   "id": "118887ff",
   "metadata": {},
   "outputs": [],
   "source": [
    "scatter_plot_evs(folder)"
   ]
  },
  {
   "cell_type": "code",
   "execution_count": null,
   "id": "267a35d0",
   "metadata": {},
   "outputs": [],
   "source": [
    "temporal_series_b(folder)"
   ]
  },
  {
   "cell_type": "code",
   "execution_count": null,
   "id": "ceda58a2",
   "metadata": {},
   "outputs": [],
   "source": [
    "alert_status_plot(folder)"
   ]
  },
  {
   "cell_type": "code",
   "execution_count": null,
   "id": "cc7118d8",
   "metadata": {},
   "outputs": [],
   "source": [
    "df_nuova_riga=table_specific(folder, earthquake)\n",
    "df_nuova_riga=table_specific(folder, earthquake)\n",
    "from IPython.display import display, Markdown\n",
    "df_nuova_riga = df_nuova_riga.to_markdown(index=False)\n",
    "display(Markdown(df_nuova_riga))"
   ]
  },
  {
   "cell_type": "markdown",
   "id": "1cc53ba9",
   "metadata": {},
   "source": [
    "## Superstition Hills\n",
    "### Date: 24 Nov 1987 13:15:56\n",
    "### m = 6.6\n",
    "<a id=\"Superstition-Hills\"></a>\n",
    "#### This event is not analyzable because there are no enough events in the post catalog. \n",
    "[Index](#top)"
   ]
  },
  {
   "cell_type": "markdown",
   "id": "3baa551d",
   "metadata": {},
   "source": [
    "## Loma Pireta\n",
    "### Date: 18 Oct 1989 00:04:15\n",
    "### m = 6.9\n",
    "<a id=\"Loma-Pireta\"></a>\n",
    "\n",
    "[Index](#top)\n",
    "\n",
    "\n"
   ]
  },
  {
   "cell_type": "code",
   "execution_count": null,
   "id": "4e29bccf",
   "metadata": {},
   "outputs": [],
   "source": [
    "earthquake='Loma Pireta'\n",
    "folder = r'C:\\Users\\MANU\\PycharmProjects\\ftls_v11-4CLASSES_sensitivity\\ftls_events\\1989_10_18_T_00_04_15_M69CAL_staking'\n",
    "bar_chart_fp(folder)"
   ]
  },
  {
   "cell_type": "code",
   "execution_count": null,
   "id": "5641273d",
   "metadata": {},
   "outputs": [],
   "source": [
    "plot_box_3d(folder)"
   ]
  },
  {
   "cell_type": "code",
   "execution_count": null,
   "id": "68efa58f",
   "metadata": {},
   "outputs": [],
   "source": [
    "scatter_plot_evs(folder)"
   ]
  },
  {
   "cell_type": "code",
   "execution_count": null,
   "id": "69ffd881",
   "metadata": {},
   "outputs": [],
   "source": [
    "temporal_series_b(folder)"
   ]
  },
  {
   "cell_type": "code",
   "execution_count": null,
   "id": "1d120cb8",
   "metadata": {},
   "outputs": [],
   "source": [
    "alert_status_plot(folder)"
   ]
  },
  {
   "cell_type": "code",
   "execution_count": null,
   "id": "d1abeceb",
   "metadata": {},
   "outputs": [],
   "source": [
    "df_nuova_riga=table_specific(folder, earthquake)\n",
    "df_nuova_riga=table_specific(folder, earthquake)\n",
    "from IPython.display import display, Markdown\n",
    "df_nuova_riga = df_nuova_riga.to_markdown(index=False)\n",
    "display(Markdown(df_nuova_riga))"
   ]
  },
  {
   "cell_type": "markdown",
   "id": "89106674",
   "metadata": {},
   "source": [
    "## Honeydew\n",
    "### Date: 17 Aug 1991 19:29:40\n",
    "### m = 6.0\n",
    "<a id=\"Honeydew\"></a>\n",
    "#### This event is not analyzable because there are no enough events in the post catalog. \n",
    "[Index](#top)\n",
    "\n",
    "\n",
    "\n",
    "\n"
   ]
  },
  {
   "cell_type": "markdown",
   "id": "a3f1b822",
   "metadata": {},
   "source": [
    "## Joshua Tree\n",
    "### Date: 23 Apr 1992 04:50:23\n",
    "### m = 6.1\n",
    "<a id=\"Joshua-Tree\"></a>\n",
    "\n",
    "[Index](#top)\n",
    "\n",
    "\n",
    "\n"
   ]
  },
  {
   "cell_type": "code",
   "execution_count": null,
   "id": "ea5f6a0b",
   "metadata": {},
   "outputs": [],
   "source": [
    "earthquake='Joshua Tree'\n",
    "folder = r'C:\\Users\\MANU\\PycharmProjects\\ftls_v11-4CLASSES_sensitivity\\ftls_events\\1992_04_23_T_04_50_23_M61CAL_staking'\n",
    "bar_chart_fp(folder)"
   ]
  },
  {
   "cell_type": "code",
   "execution_count": null,
   "id": "46409d62",
   "metadata": {},
   "outputs": [],
   "source": [
    "plot_box_3d(folder)"
   ]
  },
  {
   "cell_type": "code",
   "execution_count": null,
   "id": "a8a25006",
   "metadata": {},
   "outputs": [],
   "source": [
    "scatter_plot_evs(folder)"
   ]
  },
  {
   "cell_type": "code",
   "execution_count": null,
   "id": "a2664ff0",
   "metadata": {},
   "outputs": [],
   "source": [
    "temporal_series_b(folder)"
   ]
  },
  {
   "cell_type": "code",
   "execution_count": null,
   "id": "64d0a356",
   "metadata": {},
   "outputs": [],
   "source": [
    "alert_status_plot(folder)"
   ]
  },
  {
   "cell_type": "code",
   "execution_count": null,
   "id": "6de0ef2c",
   "metadata": {},
   "outputs": [],
   "source": [
    "df_nuova_riga=table_specific(folder, earthquake)\n",
    "df_nuova_riga=table_specific(folder, earthquake)\n",
    "from IPython.display import display, Markdown\n",
    "df_nuova_riga = df_nuova_riga.to_markdown(index=False)\n",
    "display(Markdown(df_nuova_riga))"
   ]
  },
  {
   "cell_type": "markdown",
   "id": "000952b7",
   "metadata": {},
   "source": [
    "## Landers\n",
    "### Date: 28 Jun 1992 11:57:34\n",
    "### m = 7.3\n",
    "<a id=\"Landers\"></a>\n",
    "[Index](#top)\n",
    "\n"
   ]
  },
  {
   "cell_type": "code",
   "execution_count": null,
   "id": "ef106056",
   "metadata": {},
   "outputs": [],
   "source": [
    "earthquake='Landers'\n",
    "folder = r'C:\\Users\\MANU\\PycharmProjects\\ftls_v11-4CLASSES_sensitivity\\ftls_events\\1992_06_28_T_11_57_34_M73CAL_staking'\n",
    "bar_chart_fp(folder)"
   ]
  },
  {
   "cell_type": "code",
   "execution_count": null,
   "id": "cf79fe39",
   "metadata": {},
   "outputs": [],
   "source": [
    "plot_box_3d(folder)"
   ]
  },
  {
   "cell_type": "code",
   "execution_count": null,
   "id": "9a45a506",
   "metadata": {},
   "outputs": [],
   "source": [
    "scatter_plot_evs(folder)"
   ]
  },
  {
   "cell_type": "code",
   "execution_count": null,
   "id": "a472b652",
   "metadata": {},
   "outputs": [],
   "source": [
    "temporal_series_b(folder)"
   ]
  },
  {
   "cell_type": "code",
   "execution_count": null,
   "id": "7978ad94",
   "metadata": {},
   "outputs": [],
   "source": [
    "alert_status_plot(folder)"
   ]
  },
  {
   "cell_type": "code",
   "execution_count": null,
   "id": "710a82ad",
   "metadata": {},
   "outputs": [],
   "source": [
    "df_nuova_riga=table_specific(folder, earthquake)\n",
    "df_nuova_riga=table_specific(folder, earthquake)\n",
    "from IPython.display import display, Markdown\n",
    "df_nuova_riga = df_nuova_riga.to_markdown(index=False)\n",
    "display(Markdown(df_nuova_riga))"
   ]
  },
  {
   "cell_type": "markdown",
   "id": "7ad64fa4",
   "metadata": {},
   "source": [
    "## Eureka Valley\n",
    "### Date: 17 May 1993 23:20:50\n",
    "### m = 6.1\n",
    "<a id=\"Eureka-Valley\"></a>\n",
    "#### This event is not analyzable because there are no enough events in the post catalog. \n",
    "[Index](#top)\n",
    "\n",
    "\n",
    "\n",
    "\n"
   ]
  },
  {
   "cell_type": "markdown",
   "id": "114a221d",
   "metadata": {},
   "source": [
    "## Northbridge\n",
    "### Date: 17 Jan 1994 12:30:55\n",
    "### m = 6.7\n",
    "<a id=\"Northbridge\"></a>\n",
    "#### Note:\n",
    "- No earthquakes have been occurred during the fault plane evaluation period (1 hr)\n",
    "- The analysis has been conducted using 6 hrs. \n",
    "\n",
    "[Index](#top)\n",
    "\n",
    "\n",
    "\n"
   ]
  },
  {
   "cell_type": "code",
   "execution_count": null,
   "id": "98d1409d",
   "metadata": {},
   "outputs": [],
   "source": [
    "earthquake='Northbridge'\n",
    "folder = r'C:\\Users\\MANU\\PycharmProjects\\ftls_v11-4CLASSES_sensitivity\\ftls_events\\1994_01_17_T_12_30_55_M67CAL_staking'\n",
    "# bar_chart_fp(folder)"
   ]
  },
  {
   "cell_type": "code",
   "execution_count": null,
   "id": "1868aebf",
   "metadata": {},
   "outputs": [],
   "source": [
    "plot_box_3d(folder)"
   ]
  },
  {
   "cell_type": "code",
   "execution_count": null,
   "id": "aaacd408",
   "metadata": {},
   "outputs": [],
   "source": [
    "scatter_plot_evs(folder)"
   ]
  },
  {
   "cell_type": "code",
   "execution_count": null,
   "id": "e6ba605b",
   "metadata": {},
   "outputs": [],
   "source": [
    "temporal_series_b(folder)"
   ]
  },
  {
   "cell_type": "code",
   "execution_count": null,
   "id": "e62bad53",
   "metadata": {},
   "outputs": [],
   "source": [
    "alert_status_plot(folder)"
   ]
  },
  {
   "cell_type": "code",
   "execution_count": null,
   "id": "ceae33fc",
   "metadata": {},
   "outputs": [],
   "source": [
    "df_nuova_riga=table_specific(folder, earthquake)\n",
    "df_nuova_riga=table_specific(folder, earthquake)\n",
    "from IPython.display import display, Markdown\n",
    "df_nuova_riga = df_nuova_riga.to_markdown(index=False)\n",
    "display(Markdown(df_nuova_riga))"
   ]
  },
  {
   "cell_type": "markdown",
   "id": "c84b1b99",
   "metadata": {},
   "source": [
    "## Hector Mine\n",
    "### Date: 16 Oct 1999 09:46:44\n",
    "### m = 7.1\n",
    "<a id=\"Hector-Mine\"></a>\n",
    "\n",
    "[Index](#top)\n",
    "\n"
   ]
  },
  {
   "cell_type": "code",
   "execution_count": null,
   "id": "fa4da873",
   "metadata": {},
   "outputs": [],
   "source": [
    "earthquake='Hector Mine'\n",
    "folder = r'C:\\Users\\MANU\\PycharmProjects\\ftls_v11-4CLASSES_sensitivity\\ftls_events\\1999_10_16_T_09_46_44_M71CAL_staking'\n",
    "bar_chart_fp(folder)"
   ]
  },
  {
   "cell_type": "code",
   "execution_count": null,
   "id": "3810be88",
   "metadata": {},
   "outputs": [],
   "source": [
    "plot_box_3d(folder)"
   ]
  },
  {
   "cell_type": "code",
   "execution_count": null,
   "id": "474a9a65",
   "metadata": {},
   "outputs": [],
   "source": [
    "scatter_plot_evs(folder)"
   ]
  },
  {
   "cell_type": "code",
   "execution_count": null,
   "id": "8d50cd20",
   "metadata": {},
   "outputs": [],
   "source": [
    "temporal_series_b(folder)"
   ]
  },
  {
   "cell_type": "code",
   "execution_count": null,
   "id": "455350ec",
   "metadata": {},
   "outputs": [],
   "source": [
    "alert_status_plot(folder)"
   ]
  },
  {
   "cell_type": "code",
   "execution_count": null,
   "id": "4b7a97cb",
   "metadata": {},
   "outputs": [],
   "source": [
    "df_nuova_riga=table_specific(folder, earthquake)\n",
    "df_nuova_riga=table_specific(folder, earthquake)\n",
    "from IPython.display import display, Markdown\n",
    "df_nuova_riga = df_nuova_riga.to_markdown(index=False)\n",
    "display(Markdown(df_nuova_riga))"
   ]
  },
  {
   "cell_type": "markdown",
   "id": "62fb1b69",
   "metadata": {},
   "source": [
    "## San Simeon\n",
    "### Date: 22 Dec 2003 19:15:56\n",
    "### m = 6.5\n",
    "<a id=\"SanSimeon\"></a>\n",
    "\n",
    "[Index](#top)\n",
    "\n",
    "    \n"
   ]
  },
  {
   "cell_type": "code",
   "execution_count": null,
   "id": "5557038c",
   "metadata": {},
   "outputs": [],
   "source": [
    "earthquake='San Simeon'\n",
    "folder = r'C:\\Users\\MANU\\PycharmProjects\\ftls_v11-4CLASSES_sensitivity\\ftls_events\\2003_12_22_T_19_15_56_M65CAL_staking'\n",
    "bar_chart_fp(folder)"
   ]
  },
  {
   "cell_type": "code",
   "execution_count": null,
   "id": "0ce3eb02",
   "metadata": {},
   "outputs": [],
   "source": [
    "plot_box_3d(folder)"
   ]
  },
  {
   "cell_type": "code",
   "execution_count": null,
   "id": "9733c3e9",
   "metadata": {},
   "outputs": [],
   "source": [
    "scatter_plot_evs(folder)"
   ]
  },
  {
   "cell_type": "code",
   "execution_count": null,
   "id": "0e60fd7a",
   "metadata": {},
   "outputs": [],
   "source": [
    "temporal_series_b(folder)"
   ]
  },
  {
   "cell_type": "code",
   "execution_count": null,
   "id": "644524b4",
   "metadata": {},
   "outputs": [],
   "source": [
    "alert_status_plot(folder)"
   ]
  },
  {
   "cell_type": "code",
   "execution_count": null,
   "id": "b91b754b",
   "metadata": {},
   "outputs": [],
   "source": [
    "df_nuova_riga=table_specific(folder, earthquake)\n",
    "df_nuova_riga=table_specific(folder, earthquake)\n",
    "from IPython.display import display, Markdown\n",
    "df_nuova_riga = df_nuova_riga.to_markdown(index=False)\n",
    "display(Markdown(df_nuova_riga))"
   ]
  },
  {
   "cell_type": "markdown",
   "id": "1156ca07",
   "metadata": {},
   "source": [
    "## Parkfield\n",
    "### Date: 28 Sep 2004 17:15:24\n",
    "### m = 6.0\n",
    "<a id=\"SanSimeon\"></a>\n",
    "\n",
    "[Index](#top)\n",
    "\n"
   ]
  },
  {
   "cell_type": "code",
   "execution_count": null,
   "id": "23351558",
   "metadata": {},
   "outputs": [],
   "source": [
    "earthquake='Parkfield'\n",
    "folder = r'C:\\Users\\MANU\\PycharmProjects\\ftls_v11-4CLASSES_sensitivity\\ftls_events\\2004_09_28_T_17_15_24_M59CAL_staking'\n",
    "bar_chart_fp(folder)"
   ]
  },
  {
   "cell_type": "code",
   "execution_count": null,
   "id": "fff5f661",
   "metadata": {},
   "outputs": [],
   "source": [
    "plot_box_3d(folder)"
   ]
  },
  {
   "cell_type": "code",
   "execution_count": null,
   "id": "03c9e8df",
   "metadata": {},
   "outputs": [],
   "source": [
    "scatter_plot_evs(folder)"
   ]
  },
  {
   "cell_type": "code",
   "execution_count": null,
   "id": "0d72d85c",
   "metadata": {},
   "outputs": [],
   "source": [
    "temporal_series_b(folder)"
   ]
  },
  {
   "cell_type": "code",
   "execution_count": null,
   "id": "31e2b913",
   "metadata": {},
   "outputs": [],
   "source": [
    "alert_status_plot(folder)"
   ]
  },
  {
   "cell_type": "code",
   "execution_count": null,
   "id": "c6b5650c",
   "metadata": {},
   "outputs": [],
   "source": [
    "df_nuova_riga=table_specific(folder, earthquake)\n",
    "df_nuova_riga=table_specific(folder, earthquake)\n",
    "from IPython.display import display, Markdown\n",
    "df_nuova_riga = df_nuova_riga.to_markdown(index=False)\n",
    "display(Markdown(df_nuova_riga))"
   ]
  },
  {
   "cell_type": "markdown",
   "id": "9f5ddf40",
   "metadata": {},
   "source": [
    "## El Mayor Cucapah\n",
    "### Date: 4 Apr 2010 22:40:42\n",
    "### m = 7.2\n",
    "<a id=\"El-Mayor-Cucapah\"></a>\n",
    "\n",
    "[Index](#top)\n",
    "\n",
    "\n"
   ]
  },
  {
   "cell_type": "code",
   "execution_count": null,
   "id": "ccdd8ffd",
   "metadata": {},
   "outputs": [],
   "source": [
    "earthquake='El Mayor Cucapah'\n",
    "folder = r'C:\\Users\\MANU\\PycharmProjects\\ftls_v11-4CLASSES_sensitivity\\ftls_events\\2010_04_04_T_22_40_42_M72CAL_staking'\n",
    "bar_chart_fp(folder)"
   ]
  },
  {
   "cell_type": "code",
   "execution_count": null,
   "id": "86aafc58",
   "metadata": {},
   "outputs": [],
   "source": [
    "plot_box_3d(folder)"
   ]
  },
  {
   "cell_type": "code",
   "execution_count": null,
   "id": "6d46cf0b",
   "metadata": {},
   "outputs": [],
   "source": [
    "scatter_plot_evs(folder)"
   ]
  },
  {
   "cell_type": "code",
   "execution_count": null,
   "id": "d4513812",
   "metadata": {},
   "outputs": [],
   "source": [
    "temporal_series_b(folder)"
   ]
  },
  {
   "cell_type": "code",
   "execution_count": null,
   "id": "cab75aff",
   "metadata": {},
   "outputs": [],
   "source": [
    "alert_status_plot(folder)"
   ]
  },
  {
   "cell_type": "code",
   "execution_count": null,
   "id": "4756ccbe",
   "metadata": {},
   "outputs": [],
   "source": [
    "df_nuova_riga=table_specific(folder, earthquake)\n",
    "df_nuova_riga=table_specific(folder, earthquake)\n",
    "from IPython.display import display, Markdown\n",
    "df_nuova_riga = df_nuova_riga.to_markdown(index=False)\n",
    "display(Markdown(df_nuova_riga))"
   ]
  },
  {
   "cell_type": "markdown",
   "id": "2ba372e1",
   "metadata": {},
   "source": [
    "# Japan earthquakes \n",
    "<a id=\"Japan\"></a>\n",
    "\n",
    "[Index](#top)\n"
   ]
  },
  {
   "cell_type": "markdown",
   "id": "b8d14d89",
   "metadata": {},
   "source": [
    "## Tottori\n",
    "### Date: 6 Oct 2000 04:30:19\n",
    "### m = 7.3\n",
    "<a id=\"Tottori\"></a>\n",
    "\n",
    "[Index](#top)\n",
    "\n"
   ]
  },
  {
   "cell_type": "code",
   "execution_count": null,
   "id": "27a05f6b",
   "metadata": {},
   "outputs": [],
   "source": [
    "earthquake='Tottori'\n",
    "folder = r'C:\\Users\\MANU\\PycharmProjects\\ftls_v11-4CLASSES_sensitivity\\ftls_events\\2000_10_06_T_04_30_17_M73JAP_staking'\n",
    "bar_chart_fp(folder)"
   ]
  },
  {
   "cell_type": "code",
   "execution_count": null,
   "id": "ce33c276",
   "metadata": {},
   "outputs": [],
   "source": [
    "plot_box_3d(folder)"
   ]
  },
  {
   "cell_type": "code",
   "execution_count": null,
   "id": "c460bf13",
   "metadata": {},
   "outputs": [],
   "source": [
    "scatter_plot_evs(folder)"
   ]
  },
  {
   "cell_type": "code",
   "execution_count": null,
   "id": "2cd1729f",
   "metadata": {},
   "outputs": [],
   "source": [
    "temporal_series_b(folder)"
   ]
  },
  {
   "cell_type": "code",
   "execution_count": null,
   "id": "83d40d88",
   "metadata": {},
   "outputs": [],
   "source": [
    "alert_status_plot(folder)"
   ]
  },
  {
   "cell_type": "code",
   "execution_count": null,
   "id": "eb4d210a",
   "metadata": {},
   "outputs": [],
   "source": [
    "df_nuova_riga=table_specific(folder, earthquake)\n",
    "df_nuova_riga=table_specific(folder, earthquake)\n",
    "from IPython.display import display, Markdown\n",
    "df_nuova_riga = df_nuova_riga.to_markdown(index=False)\n",
    "display(Markdown(df_nuova_riga))"
   ]
  },
  {
   "cell_type": "markdown",
   "id": "5226751c",
   "metadata": {},
   "source": [
    "## Ryukyu\n",
    "### Date: 18 Dec 2001 04:02:58\n",
    "### m = 7.3\n",
    "<a id=\"Ryukyu\"></a>\n",
    "\n",
    "[Index](#top)\n",
    "\n"
   ]
  },
  {
   "cell_type": "code",
   "execution_count": null,
   "id": "bed458c8",
   "metadata": {},
   "outputs": [],
   "source": [
    "earthquake='Ryukyu'\n",
    "folder = r'C:\\Users\\MANU\\PycharmProjects\\ftls_v11-4CLASSES_sensitivity\\ftls_events\\2001_12_18_T_04_02_59_M73JAP_staking'\n",
    "bar_chart_fp(folder)"
   ]
  },
  {
   "cell_type": "code",
   "execution_count": null,
   "id": "e36d8634",
   "metadata": {},
   "outputs": [],
   "source": [
    "plot_box_3d(folder)"
   ]
  },
  {
   "cell_type": "code",
   "execution_count": null,
   "id": "35f0c7fa",
   "metadata": {},
   "outputs": [],
   "source": [
    "scatter_plot_evs(folder)"
   ]
  },
  {
   "cell_type": "code",
   "execution_count": null,
   "id": "9fe7cc41",
   "metadata": {},
   "outputs": [],
   "source": [
    "temporal_series_b(folder)"
   ]
  },
  {
   "cell_type": "code",
   "execution_count": null,
   "id": "ebe8d159",
   "metadata": {},
   "outputs": [],
   "source": [
    "alert_status_plot(folder)"
   ]
  },
  {
   "cell_type": "code",
   "execution_count": null,
   "id": "2b5a6f67",
   "metadata": {},
   "outputs": [],
   "source": [
    "df_nuova_riga=table_specific(folder, earthquake)\n",
    "df_nuova_riga=table_specific(folder, earthquake)\n",
    "from IPython.display import display, Markdown\n",
    "df_nuova_riga = df_nuova_riga.to_markdown(index=False)\n",
    "display(Markdown(df_nuova_riga))"
   ]
  },
  {
   "cell_type": "markdown",
   "id": "bbe82d77",
   "metadata": {},
   "source": [
    "## Chuetsu\n",
    "### Date: 23 Oct 2004 09:34:04\n",
    "### m = 6.5\n",
    "<a id=\"Chuetsu\"></a>\n",
    "\n",
    "[Index](#top)\n",
    "\n",
    "\n",
    "\n"
   ]
  },
  {
   "cell_type": "code",
   "execution_count": null,
   "id": "6a2aa83c",
   "metadata": {},
   "outputs": [],
   "source": [
    "earthquake='Chuetsu'\n",
    "folder = r'C:\\Users\\MANU\\PycharmProjects\\ftls_v11-4CLASSES_sensitivity\\ftls_events\\2004_10_23_T_09_34_05_M65JAP_staking'\n",
    "bar_chart_fp(folder)"
   ]
  },
  {
   "cell_type": "code",
   "execution_count": null,
   "id": "ff37198b",
   "metadata": {},
   "outputs": [],
   "source": [
    "plot_box_3d(folder)"
   ]
  },
  {
   "cell_type": "code",
   "execution_count": null,
   "id": "9d7fd7a4",
   "metadata": {},
   "outputs": [],
   "source": [
    "scatter_plot_evs(folder)"
   ]
  },
  {
   "cell_type": "code",
   "execution_count": null,
   "id": "1e4f2630",
   "metadata": {},
   "outputs": [],
   "source": [
    "temporal_series_b(folder)"
   ]
  },
  {
   "cell_type": "code",
   "execution_count": null,
   "id": "2fed333d",
   "metadata": {},
   "outputs": [],
   "source": [
    "alert_status_plot(folder)"
   ]
  },
  {
   "cell_type": "code",
   "execution_count": null,
   "id": "8f90a083",
   "metadata": {},
   "outputs": [],
   "source": [
    "df_nuova_riga=table_specific(folder, earthquake)\n",
    "df_nuova_riga=table_specific(folder, earthquake)\n",
    "from IPython.display import display, Markdown\n",
    "df_nuova_riga = df_nuova_riga.to_markdown(index=False)\n",
    "display(Markdown(df_nuova_riga))"
   ]
  },
  {
   "cell_type": "markdown",
   "id": "37f38ab0",
   "metadata": {},
   "source": [
    "## Fukuoka\n",
    "### Date: 20 Mar 2005 01:53:41\n",
    "### m = 7.0\n",
    "<a id=\"Fukuoka\"></a>\n",
    "\n",
    "[Index](#top)\n",
    "\n",
    "\n",
    "\n",
    "\n"
   ]
  },
  {
   "cell_type": "code",
   "execution_count": null,
   "id": "e8a235e1",
   "metadata": {},
   "outputs": [],
   "source": [
    "earthquake='Fukuoka'\n",
    "folder = r'C:\\Users\\MANU\\PycharmProjects\\ftls_v11-4CLASSES_sensitivity\\ftls_events\\2005_03_20_T_01_53_40_M70JAP_staking'\n",
    "bar_chart_fp(folder)"
   ]
  },
  {
   "cell_type": "code",
   "execution_count": null,
   "id": "78e5ac84",
   "metadata": {},
   "outputs": [],
   "source": [
    "plot_box_3d(folder)"
   ]
  },
  {
   "cell_type": "code",
   "execution_count": null,
   "id": "498e9892",
   "metadata": {},
   "outputs": [],
   "source": [
    "scatter_plot_evs(folder)"
   ]
  },
  {
   "cell_type": "code",
   "execution_count": null,
   "id": "b97a6b83",
   "metadata": {},
   "outputs": [],
   "source": [
    "temporal_series_b(folder)"
   ]
  },
  {
   "cell_type": "code",
   "execution_count": null,
   "id": "c50b9a50",
   "metadata": {},
   "outputs": [],
   "source": [
    "alert_status_plot(folder)"
   ]
  },
  {
   "cell_type": "code",
   "execution_count": null,
   "id": "88068e1a",
   "metadata": {},
   "outputs": [],
   "source": [
    "df_nuova_riga=table_specific(folder, earthquake)\n",
    "df_nuova_riga=table_specific(folder, earthquake)\n",
    "from IPython.display import display, Markdown\n",
    "df_nuova_riga = df_nuova_riga.to_markdown(index=False)\n",
    "display(Markdown(df_nuova_riga))"
   ]
  },
  {
   "cell_type": "markdown",
   "id": "c917d2f9",
   "metadata": {},
   "source": [
    "## Noto\n",
    "### Date: 25 Mar 2007 00:41:57\n",
    "### m = 6.9\n",
    "<a id=\"Noto\"></a>\n",
    "\n",
    "[Index](#top)\n"
   ]
  },
  {
   "cell_type": "code",
   "execution_count": null,
   "id": "fc4d2ba7",
   "metadata": {},
   "outputs": [],
   "source": [
    "earthquake='Noto'\n",
    "folder = r'C:\\Users\\MANU\\PycharmProjects\\ftls_v11-4CLASSES_sensitivity\\ftls_events\\2007_03_25_T_00_41_57_M69JAP_staking'\n",
    "bar_chart_fp(folder)"
   ]
  },
  {
   "cell_type": "code",
   "execution_count": null,
   "id": "7632e0de",
   "metadata": {},
   "outputs": [],
   "source": [
    "plot_box_3d(folder)"
   ]
  },
  {
   "cell_type": "code",
   "execution_count": null,
   "id": "017b6eb6",
   "metadata": {},
   "outputs": [],
   "source": [
    "scatter_plot_evs(folder)"
   ]
  },
  {
   "cell_type": "code",
   "execution_count": null,
   "id": "25e4236e",
   "metadata": {},
   "outputs": [],
   "source": [
    "temporal_series_b(folder)"
   ]
  },
  {
   "cell_type": "code",
   "execution_count": null,
   "id": "5b177aac",
   "metadata": {},
   "outputs": [],
   "source": [
    "alert_status_plot(folder)"
   ]
  },
  {
   "cell_type": "code",
   "execution_count": null,
   "id": "648eec47",
   "metadata": {},
   "outputs": [],
   "source": [
    "df_nuova_riga=table_specific(folder, earthquake)\n",
    "df_nuova_riga=table_specific(folder, earthquake)\n",
    "from IPython.display import display, Markdown\n",
    "df_nuova_riga = df_nuova_riga.to_markdown(index=False)\n",
    "display(Markdown(df_nuova_riga))"
   ]
  },
  {
   "cell_type": "markdown",
   "id": "42b1a5b8",
   "metadata": {},
   "source": [
    "## Chuetsu Offshore\n",
    "### Date: 16 Jul 2007 01:13:22\n",
    "### m = 6.8\n",
    "<a id=\"Chuetsu-Offshore\"></a>\n",
    "\n",
    "[Index](#top)"
   ]
  },
  {
   "cell_type": "code",
   "execution_count": null,
   "id": "fc1a2fe5",
   "metadata": {},
   "outputs": [],
   "source": [
    "earthquake='Chuetsu Offshore'\n",
    "folder = r'C:\\Users\\MANU\\PycharmProjects\\ftls_v11-4CLASSES_sensitivity\\ftls_events\\2007_07_16_T_01_13_22_M68JAP_staking'\n",
    "bar_chart_fp(folder)"
   ]
  },
  {
   "cell_type": "code",
   "execution_count": null,
   "id": "53766c45",
   "metadata": {},
   "outputs": [],
   "source": [
    "plot_box_3d(folder)"
   ]
  },
  {
   "cell_type": "code",
   "execution_count": null,
   "id": "6db94439",
   "metadata": {},
   "outputs": [],
   "source": [
    "scatter_plot_evs(folder)"
   ]
  },
  {
   "cell_type": "code",
   "execution_count": null,
   "id": "66cdc709",
   "metadata": {},
   "outputs": [],
   "source": [
    "temporal_series_b(folder)"
   ]
  },
  {
   "cell_type": "code",
   "execution_count": null,
   "id": "cfe048ba",
   "metadata": {},
   "outputs": [],
   "source": [
    "alert_status_plot(folder)"
   ]
  },
  {
   "cell_type": "code",
   "execution_count": null,
   "id": "299e4cae",
   "metadata": {},
   "outputs": [],
   "source": [
    "df_nuova_riga=table_specific(folder, earthquake)\n",
    "df_nuova_riga=table_specific(folder, earthquake)\n",
    "from IPython.display import display, Markdown\n",
    "df_nuova_riga = df_nuova_riga.to_markdown(index=False)\n",
    "display(Markdown(df_nuova_riga))"
   ]
  },
  {
   "cell_type": "markdown",
   "id": "053eb5e7",
   "metadata": {},
   "source": [
    "## Iwate\n",
    "### Date: 13 Jun 2008 23:43:45\n",
    "### m = 7.2\n",
    "<a id=\"Iwate\"></a>\n",
    "\n",
    "[Index](#top)"
   ]
  },
  {
   "cell_type": "code",
   "execution_count": null,
   "id": "0c1a93da",
   "metadata": {},
   "outputs": [],
   "source": [
    "earthquake='Iwate'\n",
    "folder = r'C:\\Users\\MANU\\PycharmProjects\\ftls_v11-4CLASSES_sensitivity\\ftls_events\\2008_06_13_T_23_43_45_M72JAP_staking'\n",
    "bar_chart_fp(folder)"
   ]
  },
  {
   "cell_type": "code",
   "execution_count": null,
   "id": "ca0d2925",
   "metadata": {},
   "outputs": [],
   "source": [
    "plot_box_3d(folder)"
   ]
  },
  {
   "cell_type": "code",
   "execution_count": null,
   "id": "7c987f96",
   "metadata": {},
   "outputs": [],
   "source": [
    "scatter_plot_evs(folder)"
   ]
  },
  {
   "cell_type": "code",
   "execution_count": null,
   "id": "8dcc59b7",
   "metadata": {},
   "outputs": [],
   "source": [
    "temporal_series_b(folder)"
   ]
  },
  {
   "cell_type": "code",
   "execution_count": null,
   "id": "fa9ae2a8",
   "metadata": {},
   "outputs": [],
   "source": [
    "alert_status_plot(folder)"
   ]
  },
  {
   "cell_type": "code",
   "execution_count": null,
   "id": "c126df80",
   "metadata": {},
   "outputs": [],
   "source": [
    "df_nuova_riga=table_specific(folder, earthquake)\n",
    "df_nuova_riga=table_specific(folder, earthquake)\n",
    "from IPython.display import display, Markdown\n",
    "df_nuova_riga = df_nuova_riga.to_markdown(index=False)\n",
    "display(Markdown(df_nuova_riga))"
   ]
  },
  {
   "cell_type": "markdown",
   "id": "65480e04",
   "metadata": {},
   "source": [
    "## Numata, Gunma \n",
    "### Date: 23 feb 2013 07:23:55\n",
    "### m = 6.3\n",
    "<a id=\"Numata-Gunma\"></a>\n",
    "\n",
    "[Index](#top)"
   ]
  },
  {
   "cell_type": "code",
   "execution_count": null,
   "id": "99c0bc7a",
   "metadata": {},
   "outputs": [],
   "source": [
    "earthquake='Numata, Gunma '\n",
    "folder = r'C:\\Users\\MANU\\PycharmProjects\\ftls_v11-4CLASSES_sensitivity\\ftls_events\\2013_02_25_T_07_23_53_M63JAP_staking'\n",
    "bar_chart_fp(folder)"
   ]
  },
  {
   "cell_type": "code",
   "execution_count": null,
   "id": "976589e1",
   "metadata": {},
   "outputs": [],
   "source": [
    "plot_box_3d(folder)"
   ]
  },
  {
   "cell_type": "code",
   "execution_count": null,
   "id": "67a555ea",
   "metadata": {},
   "outputs": [],
   "source": [
    "scatter_plot_evs(folder)"
   ]
  },
  {
   "cell_type": "code",
   "execution_count": null,
   "id": "2ddb2d2c",
   "metadata": {},
   "outputs": [],
   "source": [
    "temporal_series_b(folder)"
   ]
  },
  {
   "cell_type": "code",
   "execution_count": null,
   "id": "5c71f099",
   "metadata": {},
   "outputs": [],
   "source": [
    "alert_status_plot(folder)"
   ]
  },
  {
   "cell_type": "code",
   "execution_count": null,
   "id": "cdd8d6af",
   "metadata": {},
   "outputs": [],
   "source": [
    "df_nuova_riga=table_specific(folder, earthquake)\n",
    "df_nuova_riga=table_specific(folder, earthquake)\n",
    "from IPython.display import display, Markdown\n",
    "df_nuova_riga = df_nuova_riga.to_markdown(index=False)\n",
    "display(Markdown(df_nuova_riga))"
   ]
  },
  {
   "cell_type": "markdown",
   "id": "2a6a0724",
   "metadata": {},
   "source": [
    "## Awaji Island\n",
    "### Date: 12 Apr 2013 20:33:17\n",
    "### m = 6.3\n",
    "<a id=\"Awaji-Island\"></a>\n",
    "\n",
    "[Index](#top)"
   ]
  },
  {
   "cell_type": "code",
   "execution_count": null,
   "id": "5edba457",
   "metadata": {},
   "outputs": [],
   "source": [
    "earthquake='Awaji Island '\n",
    "folder = r'C:\\Users\\MANU\\PycharmProjects\\ftls_v11-4CLASSES_sensitivity\\ftls_events\\2013_04_12_T_20_33_17_M63JAP_staking'\n",
    "bar_chart_fp(folder)"
   ]
  },
  {
   "cell_type": "code",
   "execution_count": null,
   "id": "b62373c2",
   "metadata": {},
   "outputs": [],
   "source": [
    "plot_box_3d(folder)"
   ]
  },
  {
   "cell_type": "code",
   "execution_count": null,
   "id": "d5917092",
   "metadata": {},
   "outputs": [],
   "source": [
    "scatter_plot_evs(folder)"
   ]
  },
  {
   "cell_type": "code",
   "execution_count": null,
   "id": "5ec96c7c",
   "metadata": {},
   "outputs": [],
   "source": [
    "temporal_series_b(folder)"
   ]
  },
  {
   "cell_type": "code",
   "execution_count": null,
   "id": "deebda60",
   "metadata": {},
   "outputs": [],
   "source": [
    "alert_status_plot(folder)"
   ]
  },
  {
   "cell_type": "code",
   "execution_count": null,
   "id": "202330e8",
   "metadata": {},
   "outputs": [],
   "source": [
    "df_nuova_riga=table_specific(folder, earthquake)\n",
    "df_nuova_riga=table_specific(folder, earthquake)\n",
    "from IPython.display import display, Markdown\n",
    "df_nuova_riga = df_nuova_riga.to_markdown(index=False)\n",
    "display(Markdown(df_nuova_riga))"
   ]
  },
  {
   "cell_type": "markdown",
   "id": "0ddfc567",
   "metadata": {},
   "source": [
    "## Miyazaki\n",
    "### Date: 28 Aug 2014 19:14:35\n",
    "### m = 6.0\n",
    "<a id=\"Miyazaki\"></a>\n",
    "#### This event is not analyzable because there are no enough events in the post catalog. \n",
    "[Index](#top)"
   ]
  },
  {
   "cell_type": "markdown",
   "id": "65050add",
   "metadata": {},
   "source": [
    "## Nagano\n",
    "### Date: 22 Nov 2014 13:08:18\n",
    "### m = 6.7\n",
    "<a id=\"Nagano\"></a>\n",
    "\n",
    "[Index](#top)"
   ]
  },
  {
   "cell_type": "code",
   "execution_count": null,
   "id": "9f7cc45d",
   "metadata": {},
   "outputs": [],
   "source": [
    "earthquake='Nagano'\n",
    "folder = r'C:\\Users\\MANU\\PycharmProjects\\ftls_v11-4CLASSES_sensitivity\\ftls_events\\2014_11_22_T_13_08_17_M67JAP_staking'\n",
    "bar_chart_fp(folder)"
   ]
  },
  {
   "cell_type": "code",
   "execution_count": null,
   "id": "69fbb2d3",
   "metadata": {},
   "outputs": [],
   "source": [
    "plot_box_3d(folder)"
   ]
  },
  {
   "cell_type": "code",
   "execution_count": null,
   "id": "01474919",
   "metadata": {},
   "outputs": [],
   "source": [
    "scatter_plot_evs(folder)"
   ]
  },
  {
   "cell_type": "code",
   "execution_count": null,
   "id": "c04c2e7e",
   "metadata": {},
   "outputs": [],
   "source": [
    "temporal_series_b(folder)"
   ]
  },
  {
   "cell_type": "code",
   "execution_count": null,
   "id": "e1a40777",
   "metadata": {},
   "outputs": [],
   "source": [
    "alert_status_plot(folder)"
   ]
  },
  {
   "cell_type": "code",
   "execution_count": null,
   "id": "c02e4876",
   "metadata": {},
   "outputs": [],
   "source": [
    "df_nuova_riga=table_specific(folder, earthquake)\n",
    "df_nuova_riga=table_specific(folder, earthquake)\n",
    "from IPython.display import display, Markdown\n",
    "df_nuova_riga = df_nuova_riga.to_markdown(index=False)\n",
    "display(Markdown(df_nuova_riga))"
   ]
  },
  {
   "cell_type": "markdown",
   "id": "eef3308b",
   "metadata": {},
   "source": [
    "## Fukushima\n",
    "### Date: 21 Nov 2016 20:59:49\n",
    "### m = 7.4\n",
    "<a id=\"Fukushima\"></a>\n",
    "[Index](#top)"
   ]
  },
  {
   "cell_type": "code",
   "execution_count": null,
   "id": "19253d40",
   "metadata": {},
   "outputs": [],
   "source": [
    "earthquake='Fukushima\n",
    "folder = r'C:\\Users\\MANU\\PycharmProjects\\ftls_v11-4CLASSES_sensitivity\\ftls_events\\2016_11_21_T_20_59_46_M74JAP_staking'\n",
    "bar_chart_fp(folder)"
   ]
  },
  {
   "cell_type": "code",
   "execution_count": null,
   "id": "fc93225c",
   "metadata": {},
   "outputs": [],
   "source": [
    "plot_box_3d(folder)"
   ]
  },
  {
   "cell_type": "code",
   "execution_count": null,
   "id": "837915d8",
   "metadata": {},
   "outputs": [],
   "source": [
    "scatter_plot_evs(folder)"
   ]
  },
  {
   "cell_type": "code",
   "execution_count": null,
   "id": "9c5f719d",
   "metadata": {},
   "outputs": [],
   "source": [
    "temporal_series_b(folder)"
   ]
  },
  {
   "cell_type": "code",
   "execution_count": null,
   "id": "aacd7537",
   "metadata": {},
   "outputs": [],
   "source": [
    "alert_status_plot(folder)"
   ]
  },
  {
   "cell_type": "code",
   "execution_count": null,
   "id": "60a75265",
   "metadata": {},
   "outputs": [],
   "source": [
    "df_nuova_riga=table_specific(folder, earthquake)\n",
    "df_nuova_riga=table_specific(folder, earthquake)\n",
    "from IPython.display import display, Markdown\n",
    "df_nuova_riga = df_nuova_riga.to_markdown(index=False)\n",
    "display(Markdown(df_nuova_riga))"
   ]
  },
  {
   "cell_type": "markdown",
   "id": "e87fcbcb",
   "metadata": {},
   "source": [
    "# Italy earthquakes \n",
    "<a id=\"Italy\"></a>\n",
    "\n",
    "[Index](#top)\n"
   ]
  },
  {
   "cell_type": "markdown",
   "id": "aa4c7835",
   "metadata": {},
   "source": [
    "## L'Aquila \n",
    "### Date: 6 Apr 2009 01:32:39\n",
    "### m = 6.3\n",
    "<a id=\"L'Aquila\"></a>\n",
    "[Index](#top)"
   ]
  },
  {
   "cell_type": "code",
   "execution_count": null,
   "id": "7828e64d",
   "metadata": {},
   "outputs": [],
   "source": [
    "earthquake=\"L'aquila\"\n",
    "folder = r'C:\\Users\\MANU\\PycharmProjects\\ftls_v11-4CLASSES_sensitivity\\ftls_events\\2009_04_06_T_01_32_40_M62ITA_staking'\n",
    "bar_chart_fp(folder)"
   ]
  },
  {
   "cell_type": "code",
   "execution_count": null,
   "id": "0e169e6f",
   "metadata": {},
   "outputs": [],
   "source": [
    "plot_box_3d(folder)"
   ]
  },
  {
   "cell_type": "code",
   "execution_count": null,
   "id": "34380745",
   "metadata": {},
   "outputs": [],
   "source": [
    "scatter_plot_evs(folder)"
   ]
  },
  {
   "cell_type": "code",
   "execution_count": null,
   "id": "673376ff",
   "metadata": {},
   "outputs": [],
   "source": [
    "temporal_series_b(folder)"
   ]
  },
  {
   "cell_type": "code",
   "execution_count": null,
   "id": "1f4ec56f",
   "metadata": {},
   "outputs": [],
   "source": [
    "alert_status_plot(folder)"
   ]
  },
  {
   "cell_type": "code",
   "execution_count": null,
   "id": "3775db22",
   "metadata": {},
   "outputs": [],
   "source": [
    "df_nuova_riga=table_specific(folder, earthquake)\n",
    "df_nuova_riga=table_specific(folder, earthquake)\n",
    "from IPython.display import display, Markdown\n",
    "df_nuova_riga = df_nuova_riga.to_markdown(index=False)\n",
    "display(Markdown(df_nuova_riga))"
   ]
  },
  {
   "cell_type": "markdown",
   "id": "0e85f069",
   "metadata": {},
   "source": [
    "# Alaska earthquakes \n",
    "<a id=\"Alaska\"></a>\n",
    "\n",
    "[Index](#top)\n"
   ]
  },
  {
   "cell_type": "markdown",
   "id": "a4d3ed35",
   "metadata": {},
   "source": [
    "## Denali \n",
    "### Date: 3 Nov 2002 22:12:41\n",
    "### m = 6.3\n",
    "<a id=\"Denali\"></a>\n",
    "[Index](#top)"
   ]
  },
  {
   "cell_type": "code",
   "execution_count": null,
   "id": "8ef51b95",
   "metadata": {},
   "outputs": [],
   "source": [
    "earthquake=\"L'aquila\"\n",
    "folder = r'C:\\Users\\MANU\\PycharmProjects\\ftls_v11-4CLASSES_sensitivity\\ftls_events\\2002_11_03_T_22_12_41_M79AK_staking'\n",
    "bar_chart_fp(folder)"
   ]
  },
  {
   "cell_type": "code",
   "execution_count": null,
   "id": "6f77d434",
   "metadata": {},
   "outputs": [],
   "source": [
    "plot_box_3d(folder)"
   ]
  },
  {
   "cell_type": "code",
   "execution_count": null,
   "id": "1cb9c993",
   "metadata": {},
   "outputs": [],
   "source": [
    "scatter_plot_evs(folder)"
   ]
  },
  {
   "cell_type": "code",
   "execution_count": null,
   "id": "8396e32c",
   "metadata": {},
   "outputs": [],
   "source": [
    "temporal_series_b(folder)"
   ]
  },
  {
   "cell_type": "code",
   "execution_count": null,
   "id": "25dacfc1",
   "metadata": {},
   "outputs": [],
   "source": [
    "alert_status_plot(folder)"
   ]
  },
  {
   "cell_type": "code",
   "execution_count": null,
   "id": "de4f1b51",
   "metadata": {},
   "outputs": [],
   "source": [
    "df_nuova_riga=table_specific(folder, earthquake)\n",
    "df_nuova_riga=table_specific(folder, earthquake)\n",
    "from IPython.display import display, Markdown\n",
    "df_nuova_riga = df_nuova_riga.to_markdown(index=False)\n",
    "display(Markdown(df_nuova_riga))"
   ]
  }
 ],
 "metadata": {
  "kernelspec": {
   "display_name": "Python 3 (ipykernel)",
   "language": "python",
   "name": "python3"
  },
  "language_info": {
   "codemirror_mode": {
    "name": "ipython",
    "version": 3
   },
   "file_extension": ".py",
   "mimetype": "text/x-python",
   "name": "python",
   "nbconvert_exporter": "python",
   "pygments_lexer": "ipython3",
   "version": "3.8.8"
  }
 },
 "nbformat": 4,
 "nbformat_minor": 5
}

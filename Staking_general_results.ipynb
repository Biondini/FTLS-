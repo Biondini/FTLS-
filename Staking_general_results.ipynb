{
 "cells": [
  {
   "cell_type": "markdown",
   "id": "15426ef4",
   "metadata": {},
   "source": [
    "# Analysis of the 31 -staked sequences\n",
    "The analysis has been conducted using the new FTLS software developed in python. "
   ]
  },
  {
   "cell_type": "code",
   "execution_count": 1,
   "id": "dbcb142f",
   "metadata": {},
   "outputs": [
    {
     "data": {
      "text/html": [
       "        <script type=\"text/javascript\">\n",
       "        window.PlotlyConfig = {MathJaxConfig: 'local'};\n",
       "        if (window.MathJax) {MathJax.Hub.Config({SVG: {font: \"STIX-Web\"}});}\n",
       "        if (typeof require !== 'undefined') {\n",
       "        require.undef(\"plotly\");\n",
       "        requirejs.config({\n",
       "            paths: {\n",
       "                'plotly': ['https://cdn.plot.ly/plotly-2.8.3.min']\n",
       "            }\n",
       "        });\n",
       "        require(['plotly'], function(Plotly) {\n",
       "            window._Plotly = Plotly;\n",
       "        });\n",
       "        }\n",
       "        </script>\n",
       "        "
      ]
     },
     "metadata": {},
     "output_type": "display_data"
    },
    {
     "name": "stdout",
     "output_type": "stream",
     "text": [
      "print function loaded\n"
     ]
    }
   ],
   "source": [
    "%run C:\\Users\\MANU\\Funcion_plots.ipynb"
   ]
  },
  {
   "cell_type": "markdown",
   "id": "90547a14",
   "metadata": {},
   "source": [
    "<a id=\"top\"></a>\n",
    "## Contents\n",
    "### Note: Click on the earthquake line to view the detailed tab.\n"
   ]
  },
  {
   "cell_type": "markdown",
   "id": "701a6448",
   "metadata": {},
   "source": [
    "- **[Summary Table](#Summary-Table)**\n",
    "\n",
    "**[California earthquakes](#California)**\n",
    "- [Coalinga 2 May 1983](https://rawcdn.githack.com/Biondini/new_FTLS/60452993a3fbbfdd71a0d7516562ff38d9630fac/Coalinga.html)\n",
    "- [Morgan Hill 24 Apr 1984](https://rawcdn.githack.com/Biondini/new_FTLS/5cf051c90c905b8f458f9ba9376e2513627061f9/Morgan_Hill.html)\n",
    "- [Round Valley 23 Nov 1984](https://rawcdn.githack.com/Biondini/new_FTLS/fa132bfd15d6d852ddbb343a32a01674e5b0ff69/Round_Valley.html)\n",
    "- [Chalfant Valley 21 Jul 1986](https://rawcdn.githack.com/Biondini/new_FTLS/e2b3ccc2239e79e6f57dcca9213f9eb90199bbf4/Chalfant_Valley.html)\n",
    "\n",
    "- [Loma Pireta 18 Oct 1989](https://rawcdn.githack.com/Biondini/new_FTLS/6e8d89e802e93032f48d1f541b5cd72411688ebe/Loma_Pireta.html)\n",
    "- [Joshua Tree 23 Apr 1992](https://rawcdn.githack.com/Biondini/new_FTLS/8acfa6d66c7e1da596c8d4667892323d3b8a6979/Joshua_Tree.html)\n",
    "- [Landers 28 Jun 1992](https://rawcdn.githack.com/Biondini/new_FTLS/cb8bb9e1e9b64769822f9ee4fb880200eb089a6e/Landers.html)\n",
    "- [Northbridge 17 Jan 1994](https://rawcdn.githack.com/Biondini/new_FTLS/03ce0f7ca43727742fbb73dfb54984c7606df105/Northbridge.html)\n",
    "- [Hector Mine 16 Oct 1999](https://rawcdn.githack.com/Biondini/new_FTLS/3053dbffd701ee62a1e1e56353ace6eb1ca41cc7/Hector_Mine.html)\n",
    "- [San Simeon 22 Dec 2003](https://rawcdn.githack.com/Biondini/new_FTLS/82ae5f409d23c747b72f46699074326d3b2432a2/San_Simeon.html)\n",
    "- [Parkfield 28 Sep 2004](https://rawcdn.githack.com/Biondini/new_FTLS/16ffd36e419a8603d54707532510ed3fc552c30b/Parkfield.html)\n",
    "- [El Mayor Cucapah 4 Apr 2010](https://rawcdn.githack.com/Biondini/new_FTLS/300def26e1772664f213b1c8c0e9853a4f2c037c/El_Mayor_Cucapah.html?min=1)\n",
    "\n",
    "**[Japan earthquakes](#Japan)**\n",
    "- [Tottori 6 Oct 2000](https://rawcdn.githack.com/Biondini/new_FTLS/09583c281ddca4a7db96edfe3c43f35bcf25c485/Tottori.html)\n",
    "- [Ryukyu 18 Dec 2001](https://rawcdn.githack.com/Biondini/new_FTLS/cf12d2554f3f543a7832205fad0bca1ef98dc5d5/Ryukyu.html)\n",
    "- [Chuetsu 23 Oct 2004](https://rawcdn.githack.com/Biondini/new_FTLS/0e1e8c6ed474ba66f0e32e45346c48ec5c75e840/Chuetsu.html)\n",
    "- [Fukuoka 20 Mar 2005](https://rawcdn.githack.com/Biondini/new_FTLS/c28f594606b255c9b4c96fc65acffeac436bc53d/Fukuoka.html)\n",
    "- [Noto 25 Mar 2007](https://rawcdn.githack.com/Biondini/new_FTLS/5ef83129113d280c5c671c418374fc315c12d3b2/Noto.html)\n",
    "- [Chuetsu Offshore 16 Jul 2007](https://rawcdn.githack.com/Biondini/new_FTLS/bb5eda7a119891a7a72bcc5a48223840de8b4728/Chuetsu_Offshore.html)\n",
    "- [Iwate 13 Jun 2008](https://rawcdn.githack.com/Biondini/new_FTLS/79216cd2e13fa9bfd5186ebce0bf7e8086a7603e/Iwate.html)\n",
    "- [Numata, Gunma 25 feb 2013](https://rawcdn.githack.com/Biondini/new_FTLS/ab767ecac12e03f424df2fd97635a8bc23329cc0/Numata-Gunma.html)\n",
    "- [Awaji Island 12 Apr 2013](https://rawcdn.githack.com/Biondini/new_FTLS/69214c700ff3f314ae0b1729009442aea13f685d/Awaji_Island.html)\n",
    "- [Nagano 22 Nov 2014](https://rawcdn.githack.com/Biondini/new_FTLS/6e9f75bebb7b747b6756d05015838641cd229ceb/Nagano.html)\n",
    "- [Fukushima 21 Nov 2016](https://rawcdn.githack.com/Biondini/new_FTLS/a271ffc48a4dc7927a3605733c382f0b0be7d025/Fukushima.html)\n",
    "\n",
    "**[Italy earthquakes](#Italy)**\n",
    "- [L'Aquila 6 Apr 2009](https://rawcdn.githack.com/Biondini/new_FTLS/31d2211bb464800a66277a8af7f23806c1df1fde/LAquila.html)\n",
    "\n",
    "**[Alaska earthquakes](#Alaska)**\n",
    "- [Denali 3 Nov 2002](https://rawcdn.githack.com/Biondini/new_FTLS/d657d39898143c671047d7f5ac71e68216cb5e84/Denali.html)\n",
    "\n",
    "**[Unanalyzable earthquakes](#Unanalyzable)**\n",
    "- [Sperstition Hills 24 Nov 1987 (California)](#Superstition-Hills)\n",
    "- [Honeydew 17 Aug 1991 (California)](#Honeydew)\n",
    "- [Eureka Valley 17 May 1993 (California)](#Eureka-Valley)\n",
    "- [Miyazaki 28 Aug 2014 (California)](#Miyazaki)"
   ]
  },
  {
   "cell_type": "markdown",
   "id": "a2a1549a",
   "metadata": {},
   "source": [
    "# Summary Table\n",
    "<a id=\"Summary-Table\"></a>\n",
    "[Index](#top)"
   ]
  },
  {
   "cell_type": "markdown",
   "id": "22f02d0d",
   "metadata": {},
   "source": [
    "#### List of the 27 analyzable staked sequences. \n",
    "For each earthquake, information is provided about the date, magnitude, reference b-value (b_ref), the maximum b% estimated in the first 3 months following the mainshock (b-Max90), as well as the strike, dip, and rake of the fault plane, and the relative style of faulting according to the Frolich diagram."
   ]
  },
  {
   "cell_type": "code",
   "execution_count": 2,
   "id": "11084ac4",
   "metadata": {},
   "outputs": [
    {
     "data": {
      "text/markdown": [
       "| Earthquake       | Date                       |   Magnitude |   b_ref |   b-Max90 |   Strike |   Dip |   Rake | Fault type   |\n",
       "|:-----------------|:---------------------------|------------:|--------:|----------:|---------:|------:|-------:|:-------------|\n",
       "| Coalinga         | 1983-05-02 23:42:38.060    |        6.7  |    0.75 |   136.323 |      320 |    30 |     87 | TH           |\n",
       "| Morgan Hill      | 1984-04-24 21:15:18.760000 |        6.2  |    0.81 |   101.752 |      333 |    76 |    179 | SS           |\n",
       "| Round Valley     | 1984-11-23 18:08:25.360000 |        6.1  |    0.69 |   160.325 |      221 |    82 |    -43 | UN           |\n",
       "| Chalfant Valley  | 1986-07-21 14:42:26        |        6.4  |    0.67 |   217.43  |      149 |    60 |   -163 | SN           |\n",
       "| Loma Pireta      | 1989-10-18 00:04:15.190000 |        6.9  |    0.98 |   151.084 |      123 |    71 |    128 | UN           |\n",
       "| Joshua Tree      | 1992-04-23 04:50:23.230000 |        6.1  |    0.97 |   135.638 |      171 |    89 |   -177 | SS           |\n",
       "| Landers          | 1992-06-28 11:57:34.130000 |        7.3  |    0.93 |   172.274 |      341 |    70 |   -172 | SS           |\n",
       "| Northbridge      | 1994-01-17 12:30:55.390000 |        6.7  |    0.91 |   137.901 |      130 |    53 |    111 | TH           |\n",
       "| Hector Mine      | 1999-10-16 09:46:44.460000 |        7.1  |    0.84 |   222.947 |      336 |    80 |    174 | SS           |\n",
       "| San Simeon       | 2003-12-22 19:15:56.240000 |        6.5  |    0.9  |   131.802 |      296 |    32 |     88 | TH           |\n",
       "| Parkfield        | 2004-09-28 17:15:24.250000 |        5.97 |    0.82 |   121.887 |      321 |    72 |   -178 | SS           |\n",
       "| El Mayor Cucapah | 2010-04-04 22:40:42.360000 |        7.2  |    0.91 |   162.139 |      313 |    88 |   -174 | SS           |\n",
       "| Tottori          | 2000-10-06 04:30:17.940000 |        7.3  |    0.72 |   229.377 |      331 |    83 |      1 | SS           |\n",
       "| Ryukyu           | 2001-12-18 04:02:59.360000 |        7.3  |    0.92 |   133.56  |      204 |    59 |    -53 | SN           |\n",
       "| Chuetsu          | 2004-10-23 09:34:05.690000 |        6.5  |    0.76 |   137.81  |      215 |    62 |     91 | TH           |\n",
       "| Fukuoka          | 2005-03-20 01:53:40.320000 |        7    |    0.83 |   137.563 |      302 |    88 |    -14 | SS           |\n",
       "| Noto             | 2007-03-25 00:41:57.910000 |        6.9  |    0.71 |   137.089 |       34 |    40 |    108 | TH           |\n",
       "| Chuetsu Offshore | 2007-07-16 01:13:22.550000 |        6.8  |    1.06 |   117.505 |      225 |    60 |     94 | TH           |\n",
       "| Iwate            | 2008-06-13 23:43:45.360000 |        7.2  |    0.84 |   182.838 |       17 |    42 |     87 | TH           |\n",
       "| Numata, Gunma    | 2013-02-25 07:23:53.580000 |        6.3  |    0.72 |   140.832 |      346 |    85 |     -1 | SS           |\n",
       "| Awaji Island     | 2013-04-12 20:33:17.750000 |        6.3  |    0.66 |   133.205 |      180 |    68 |     98 | TH           |\n",
       "| Nagano           | 2014-11-22 13:08:17.900000 |        6.7  |    0.75 |   132.316 |       15 |    41 |     49 | TH           |\n",
       "| Fukushima        | 2016-11-21 20:59:46.890000 |        7.4  |    0.95 |   150.176 |       49 |    35 |    -89 | NR           |\n",
       "| L'Aquila         | 2009-04-06 01:32:40.400000 |        6.29 |    0.82 |   188.452 |      336 |    42 |    -62 | NR           |\n",
       "| Denali           | 2002-11-03 22:12:41.518000 |        7.9  |    0.85 |   132.771 |       29 |    82 |     19 | SS           |"
      ],
      "text/plain": [
       "<IPython.core.display.Markdown object>"
      ]
     },
     "metadata": {},
     "output_type": "display_data"
    }
   ],
   "source": [
    "summary_plot()"
   ]
  },
  {
   "cell_type": "markdown",
   "id": "0bd88c92",
   "metadata": {},
   "source": [
    "<a id=\"Unanalyzable\"></a>\n",
    "# Unanalyzable earthquakes\n",
    "[Index](#top)"
   ]
  },
  {
   "cell_type": "markdown",
   "id": "eadd595f",
   "metadata": {},
   "source": [
    "<a id=\"Superstition-Hills\"></a>\n",
    "## Superstition Hills (California)\n",
    "### Date: 24 Nov 1987 13:15:56\n",
    "### m = 6.6\n",
    "#### This event is not analyzable because there are no enough events in the post catalog. \n",
    "[Index](#top)"
   ]
  },
  {
   "cell_type": "markdown",
   "id": "057ebffa",
   "metadata": {},
   "source": [
    "<a id=\"Honeydew\"></a>\n",
    "## Honeydew (California)\n",
    "### Date: 17 Aug 1991 19:29:40\n",
    "### m = 6.0\n",
    "#### This event is not analyzable because there are no enough events in the post catalog. \n",
    "[Index](#top)"
   ]
  },
  {
   "cell_type": "markdown",
   "id": "cf7a6a3c",
   "metadata": {},
   "source": [
    "<a id=\"Eureka-Valley\"></a>\n",
    "## Eureka Valley (California)\n",
    "### Date: 17 May 1993 23:20:50\n",
    "### m = 6.1\n",
    "#### This event is not analyzable because there are no enough events in the post catalog. \n",
    "[Index](#top)"
   ]
  },
  {
   "cell_type": "markdown",
   "id": "011848c7",
   "metadata": {},
   "source": [
    "<a id=\"Miyazaki\"></a>\n",
    "## Miyazaki (Japan)\n",
    "### Date: 28 Aug 2014 19:14:35\n",
    "### m = 6.0\n",
    "#### This event is not analyzable because there are no enough events in the post catalog. \n",
    "[Index](#top)"
   ]
  },
  {
   "cell_type": "code",
   "execution_count": null,
   "id": "fc01da31",
   "metadata": {},
   "outputs": [],
   "source": []
  }
 ],
 "metadata": {
  "hide_input": false,
  "kernelspec": {
   "display_name": "Python 3 (ipykernel)",
   "language": "python",
   "name": "python3"
  },
  "language_info": {
   "codemirror_mode": {
    "name": "ipython",
    "version": 3
   },
   "file_extension": ".py",
   "mimetype": "text/x-python",
   "name": "python",
   "nbconvert_exporter": "python",
   "pygments_lexer": "ipython3",
   "version": "3.8.8"
  }
 },
 "nbformat": 4,
 "nbformat_minor": 5
}

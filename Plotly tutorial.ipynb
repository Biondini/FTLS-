{
 "cells": [
  {
   "cell_type": "markdown",
   "id": "6d9bd18e",
   "metadata": {},
   "source": [
    "# Plot interattivi, prove ed esempi"
   ]
  },
  {
   "cell_type": "markdown",
   "id": "261f4633",
   "metadata": {},
   "source": [
    "## pachages"
   ]
  },
  {
   "cell_type": "code",
   "execution_count": null,
   "id": "b861d3c2",
   "metadata": {},
   "outputs": [],
   "source": [
    "!pip install --upgrade numpy pandas cufflinks\n",
    "\n",
    "# import pandas as pd\n",
    "# import numpy as np\n",
    "# import chart_studio.plotly as py\n",
    "# import cufflinks as cf\n",
    "# import seaborn as sns\n",
    "# import plotly.express as px\n",
    "# import json \n",
    "# import os\n",
    "# import plotly.graph_objects as go\n",
    "# from datetime import datetime, timedelta\n",
    "# %matplotlib inline\n",
    "\n",
    "# from plotly.offline import download_plotlyjs, init_notebook_mode, plot, iplot \n",
    "# init_notebook_mode(connected=True)\n",
    "# cf.go_offline()"
   ]
  },
  {
   "cell_type": "code",
   "execution_count": 8,
   "id": "c1ef7c75-d544-4d1f-b432-c3a66bb78a26",
   "metadata": {},
   "outputs": [
    {
     "ename": "TypeError",
     "evalue": "<class 'numpy.typing._dtype_like._SupportsDType'> is not a generic class",
     "output_type": "error",
     "traceback": [
      "\u001b[1;31m---------------------------------------------------------------------------\u001b[0m",
      "\u001b[1;31mTypeError\u001b[0m                                 Traceback (most recent call last)",
      "\u001b[1;32m~\\AppData\\Local\\Temp/ipykernel_14360/3574741140.py\u001b[0m in \u001b[0;36m<module>\u001b[1;34m\u001b[0m\n\u001b[0;32m      2\u001b[0m \u001b[1;32mimport\u001b[0m \u001b[0mnumpy\u001b[0m \u001b[1;32mas\u001b[0m \u001b[0mnp\u001b[0m\u001b[1;33m\u001b[0m\u001b[1;33m\u001b[0m\u001b[0m\n\u001b[0;32m      3\u001b[0m \u001b[1;32mimport\u001b[0m \u001b[0mchart_studio\u001b[0m\u001b[1;33m.\u001b[0m\u001b[0mplotly\u001b[0m \u001b[1;32mas\u001b[0m \u001b[0mpy\u001b[0m\u001b[1;33m\u001b[0m\u001b[1;33m\u001b[0m\u001b[0m\n\u001b[1;32m----> 4\u001b[1;33m \u001b[1;32mimport\u001b[0m \u001b[0mplotly\u001b[0m\u001b[1;33m.\u001b[0m\u001b[0mexpress\u001b[0m \u001b[1;32mas\u001b[0m \u001b[0mpx\u001b[0m\u001b[1;33m\u001b[0m\u001b[1;33m\u001b[0m\u001b[0m\n\u001b[0m\u001b[0;32m      5\u001b[0m \u001b[1;32mimport\u001b[0m \u001b[0mcufflinks\u001b[0m \u001b[1;32mas\u001b[0m \u001b[0mcf\u001b[0m\u001b[1;33m\u001b[0m\u001b[1;33m\u001b[0m\u001b[0m\n\u001b[0;32m      6\u001b[0m \u001b[1;32mimport\u001b[0m \u001b[0mseaborn\u001b[0m \u001b[1;32mas\u001b[0m \u001b[0msns\u001b[0m\u001b[1;33m\u001b[0m\u001b[1;33m\u001b[0m\u001b[0m\n",
      "\u001b[1;32m~\\anaconda3\\lib\\site-packages\\plotly\\express\\__init__.py\u001b[0m in \u001b[0;36m<module>\u001b[1;34m\u001b[0m\n\u001b[0;32m     13\u001b[0m     )\n\u001b[0;32m     14\u001b[0m \u001b[1;33m\u001b[0m\u001b[0m\n\u001b[1;32m---> 15\u001b[1;33m \u001b[1;32mfrom\u001b[0m \u001b[1;33m.\u001b[0m\u001b[0m_imshow\u001b[0m \u001b[1;32mimport\u001b[0m \u001b[0mimshow\u001b[0m\u001b[1;33m\u001b[0m\u001b[1;33m\u001b[0m\u001b[0m\n\u001b[0m\u001b[0;32m     16\u001b[0m from ._chart_types import (  # noqa: F401\n\u001b[0;32m     17\u001b[0m     \u001b[0mscatter\u001b[0m\u001b[1;33m,\u001b[0m\u001b[1;33m\u001b[0m\u001b[1;33m\u001b[0m\u001b[0m\n",
      "\u001b[1;32m~\\anaconda3\\lib\\site-packages\\plotly\\express\\_imshow.py\u001b[0m in \u001b[0;36m<module>\u001b[1;34m\u001b[0m\n\u001b[0;32m      9\u001b[0m \u001b[1;33m\u001b[0m\u001b[0m\n\u001b[0;32m     10\u001b[0m \u001b[1;32mtry\u001b[0m\u001b[1;33m:\u001b[0m\u001b[1;33m\u001b[0m\u001b[1;33m\u001b[0m\u001b[0m\n\u001b[1;32m---> 11\u001b[1;33m     \u001b[1;32mimport\u001b[0m \u001b[0mxarray\u001b[0m\u001b[1;33m\u001b[0m\u001b[1;33m\u001b[0m\u001b[0m\n\u001b[0m\u001b[0;32m     12\u001b[0m \u001b[1;33m\u001b[0m\u001b[0m\n\u001b[0;32m     13\u001b[0m     \u001b[0mxarray_imported\u001b[0m \u001b[1;33m=\u001b[0m \u001b[1;32mTrue\u001b[0m\u001b[1;33m\u001b[0m\u001b[1;33m\u001b[0m\u001b[0m\n",
      "\u001b[1;32m~\\anaconda3\\lib\\site-packages\\xarray\\__init__.py\u001b[0m in \u001b[0;36m<module>\u001b[1;34m\u001b[0m\n\u001b[1;32m----> 1\u001b[1;33m \u001b[1;32mfrom\u001b[0m \u001b[1;33m.\u001b[0m \u001b[1;32mimport\u001b[0m \u001b[0mtesting\u001b[0m\u001b[1;33m,\u001b[0m \u001b[0mtutorial\u001b[0m\u001b[1;33m\u001b[0m\u001b[1;33m\u001b[0m\u001b[0m\n\u001b[0m\u001b[0;32m      2\u001b[0m from .backends.api import (\n\u001b[0;32m      3\u001b[0m     \u001b[0mload_dataarray\u001b[0m\u001b[1;33m,\u001b[0m\u001b[1;33m\u001b[0m\u001b[1;33m\u001b[0m\u001b[0m\n\u001b[0;32m      4\u001b[0m     \u001b[0mload_dataset\u001b[0m\u001b[1;33m,\u001b[0m\u001b[1;33m\u001b[0m\u001b[1;33m\u001b[0m\u001b[0m\n\u001b[0;32m      5\u001b[0m     \u001b[0mopen_dataarray\u001b[0m\u001b[1;33m,\u001b[0m\u001b[1;33m\u001b[0m\u001b[1;33m\u001b[0m\u001b[0m\n",
      "\u001b[1;32m~\\anaconda3\\lib\\site-packages\\xarray\\testing.py\u001b[0m in \u001b[0;36m<module>\u001b[1;34m\u001b[0m\n\u001b[0;32m      7\u001b[0m \u001b[1;32mimport\u001b[0m \u001b[0mpandas\u001b[0m \u001b[1;32mas\u001b[0m \u001b[0mpd\u001b[0m\u001b[1;33m\u001b[0m\u001b[1;33m\u001b[0m\u001b[0m\n\u001b[0;32m      8\u001b[0m \u001b[1;33m\u001b[0m\u001b[0m\n\u001b[1;32m----> 9\u001b[1;33m \u001b[1;32mfrom\u001b[0m \u001b[0mxarray\u001b[0m\u001b[1;33m.\u001b[0m\u001b[0mcore\u001b[0m \u001b[1;32mimport\u001b[0m \u001b[0mduck_array_ops\u001b[0m\u001b[1;33m,\u001b[0m \u001b[0mformatting\u001b[0m\u001b[1;33m,\u001b[0m \u001b[0mutils\u001b[0m\u001b[1;33m\u001b[0m\u001b[1;33m\u001b[0m\u001b[0m\n\u001b[0m\u001b[0;32m     10\u001b[0m \u001b[1;32mfrom\u001b[0m \u001b[0mxarray\u001b[0m\u001b[1;33m.\u001b[0m\u001b[0mcore\u001b[0m\u001b[1;33m.\u001b[0m\u001b[0mdataarray\u001b[0m \u001b[1;32mimport\u001b[0m \u001b[0mDataArray\u001b[0m\u001b[1;33m\u001b[0m\u001b[1;33m\u001b[0m\u001b[0m\n\u001b[0;32m     11\u001b[0m \u001b[1;32mfrom\u001b[0m \u001b[0mxarray\u001b[0m\u001b[1;33m.\u001b[0m\u001b[0mcore\u001b[0m\u001b[1;33m.\u001b[0m\u001b[0mdataset\u001b[0m \u001b[1;32mimport\u001b[0m \u001b[0mDataset\u001b[0m\u001b[1;33m\u001b[0m\u001b[1;33m\u001b[0m\u001b[0m\n",
      "\u001b[1;32m~\\anaconda3\\lib\\site-packages\\xarray\\core\\duck_array_ops.py\u001b[0m in \u001b[0;36m<module>\u001b[1;34m\u001b[0m\n\u001b[0;32m     24\u001b[0m \u001b[1;32mfrom\u001b[0m \u001b[0mnumpy\u001b[0m \u001b[1;32mimport\u001b[0m \u001b[0mwhere\u001b[0m \u001b[1;32mas\u001b[0m \u001b[0m_where\u001b[0m\u001b[1;33m\u001b[0m\u001b[1;33m\u001b[0m\u001b[0m\n\u001b[0;32m     25\u001b[0m \u001b[1;33m\u001b[0m\u001b[0m\n\u001b[1;32m---> 26\u001b[1;33m \u001b[1;32mfrom\u001b[0m \u001b[1;33m.\u001b[0m \u001b[1;32mimport\u001b[0m \u001b[0mdask_array_compat\u001b[0m\u001b[1;33m,\u001b[0m \u001b[0mdask_array_ops\u001b[0m\u001b[1;33m,\u001b[0m \u001b[0mdtypes\u001b[0m\u001b[1;33m,\u001b[0m \u001b[0mnpcompat\u001b[0m\u001b[1;33m,\u001b[0m \u001b[0mnputils\u001b[0m\u001b[1;33m\u001b[0m\u001b[1;33m\u001b[0m\u001b[0m\n\u001b[0m\u001b[0;32m     27\u001b[0m \u001b[1;32mfrom\u001b[0m \u001b[1;33m.\u001b[0m\u001b[0mnputils\u001b[0m \u001b[1;32mimport\u001b[0m \u001b[0mnanfirst\u001b[0m\u001b[1;33m,\u001b[0m \u001b[0mnanlast\u001b[0m\u001b[1;33m\u001b[0m\u001b[1;33m\u001b[0m\u001b[0m\n\u001b[0;32m     28\u001b[0m \u001b[1;32mfrom\u001b[0m \u001b[1;33m.\u001b[0m\u001b[0mpycompat\u001b[0m \u001b[1;32mimport\u001b[0m \u001b[0mcupy_array_type\u001b[0m\u001b[1;33m,\u001b[0m \u001b[0mdask_array_type\u001b[0m\u001b[1;33m,\u001b[0m \u001b[0mis_duck_dask_array\u001b[0m\u001b[1;33m\u001b[0m\u001b[1;33m\u001b[0m\u001b[0m\n",
      "\u001b[1;32m~\\anaconda3\\lib\\site-packages\\xarray\\core\\npcompat.py\u001b[0m in \u001b[0;36m<module>\u001b[1;34m\u001b[0m\n\u001b[0;32m     70\u001b[0m         \u001b[0mList\u001b[0m\u001b[1;33m[\u001b[0m\u001b[0mAny\u001b[0m\u001b[1;33m]\u001b[0m\u001b[1;33m,\u001b[0m\u001b[1;33m\u001b[0m\u001b[1;33m\u001b[0m\u001b[0m\n\u001b[0;32m     71\u001b[0m         \u001b[1;31m# anything with a dtype attribute\u001b[0m\u001b[1;33m\u001b[0m\u001b[1;33m\u001b[0m\u001b[0m\n\u001b[1;32m---> 72\u001b[1;33m         \u001b[0m_SupportsDType\u001b[0m\u001b[1;33m[\u001b[0m\u001b[0mnp\u001b[0m\u001b[1;33m.\u001b[0m\u001b[0mdtype\u001b[0m\u001b[1;33m]\u001b[0m\u001b[1;33m,\u001b[0m\u001b[1;33m\u001b[0m\u001b[1;33m\u001b[0m\u001b[0m\n\u001b[0m\u001b[0;32m     73\u001b[0m     ]\n\u001b[0;32m     74\u001b[0m \u001b[1;32mexcept\u001b[0m \u001b[0mImportError\u001b[0m\u001b[1;33m:\u001b[0m\u001b[1;33m\u001b[0m\u001b[1;33m\u001b[0m\u001b[0m\n",
      "\u001b[1;32m~\\anaconda3\\lib\\typing.py\u001b[0m in \u001b[0;36minner\u001b[1;34m(*args, **kwds)\u001b[0m\n\u001b[0;32m    273\u001b[0m             \u001b[1;32mexcept\u001b[0m \u001b[0mTypeError\u001b[0m\u001b[1;33m:\u001b[0m\u001b[1;33m\u001b[0m\u001b[1;33m\u001b[0m\u001b[0m\n\u001b[0;32m    274\u001b[0m                 \u001b[1;32mpass\u001b[0m  \u001b[1;31m# All real errors (not unhashable args) are raised below.\u001b[0m\u001b[1;33m\u001b[0m\u001b[1;33m\u001b[0m\u001b[0m\n\u001b[1;32m--> 275\u001b[1;33m             \u001b[1;32mreturn\u001b[0m \u001b[0mfunc\u001b[0m\u001b[1;33m(\u001b[0m\u001b[1;33m*\u001b[0m\u001b[0margs\u001b[0m\u001b[1;33m,\u001b[0m \u001b[1;33m**\u001b[0m\u001b[0mkwds\u001b[0m\u001b[1;33m)\u001b[0m\u001b[1;33m\u001b[0m\u001b[1;33m\u001b[0m\u001b[0m\n\u001b[0m\u001b[0;32m    276\u001b[0m         \u001b[1;32mreturn\u001b[0m \u001b[0minner\u001b[0m\u001b[1;33m\u001b[0m\u001b[1;33m\u001b[0m\u001b[0m\n\u001b[0;32m    277\u001b[0m \u001b[1;33m\u001b[0m\u001b[0m\n",
      "\u001b[1;32m~\\anaconda3\\lib\\typing.py\u001b[0m in \u001b[0;36m__class_getitem__\u001b[1;34m(cls, params)\u001b[0m\n\u001b[0;32m    997\u001b[0m         \u001b[1;32melse\u001b[0m\u001b[1;33m:\u001b[0m\u001b[1;33m\u001b[0m\u001b[1;33m\u001b[0m\u001b[0m\n\u001b[0;32m    998\u001b[0m             \u001b[1;31m# Subscripting a regular Generic subclass.\u001b[0m\u001b[1;33m\u001b[0m\u001b[1;33m\u001b[0m\u001b[0m\n\u001b[1;32m--> 999\u001b[1;33m             \u001b[0m_check_generic\u001b[0m\u001b[1;33m(\u001b[0m\u001b[0mcls\u001b[0m\u001b[1;33m,\u001b[0m \u001b[0mparams\u001b[0m\u001b[1;33m,\u001b[0m \u001b[0mlen\u001b[0m\u001b[1;33m(\u001b[0m\u001b[0mcls\u001b[0m\u001b[1;33m.\u001b[0m\u001b[0m__parameters__\u001b[0m\u001b[1;33m)\u001b[0m\u001b[1;33m)\u001b[0m\u001b[1;33m\u001b[0m\u001b[1;33m\u001b[0m\u001b[0m\n\u001b[0m\u001b[0;32m   1000\u001b[0m         \u001b[1;32mreturn\u001b[0m \u001b[0m_GenericAlias\u001b[0m\u001b[1;33m(\u001b[0m\u001b[0mcls\u001b[0m\u001b[1;33m,\u001b[0m \u001b[0mparams\u001b[0m\u001b[1;33m)\u001b[0m\u001b[1;33m\u001b[0m\u001b[1;33m\u001b[0m\u001b[0m\n\u001b[0;32m   1001\u001b[0m \u001b[1;33m\u001b[0m\u001b[0m\n",
      "\u001b[1;32m~\\anaconda3\\lib\\typing.py\u001b[0m in \u001b[0;36m_check_generic\u001b[1;34m(cls, parameters, elen)\u001b[0m\n\u001b[0;32m    207\u001b[0m     \"\"\"\n\u001b[0;32m    208\u001b[0m     \u001b[1;32mif\u001b[0m \u001b[1;32mnot\u001b[0m \u001b[0melen\u001b[0m\u001b[1;33m:\u001b[0m\u001b[1;33m\u001b[0m\u001b[1;33m\u001b[0m\u001b[0m\n\u001b[1;32m--> 209\u001b[1;33m         \u001b[1;32mraise\u001b[0m \u001b[0mTypeError\u001b[0m\u001b[1;33m(\u001b[0m\u001b[1;34mf\"{cls} is not a generic class\"\u001b[0m\u001b[1;33m)\u001b[0m\u001b[1;33m\u001b[0m\u001b[1;33m\u001b[0m\u001b[0m\n\u001b[0m\u001b[0;32m    210\u001b[0m     \u001b[0malen\u001b[0m \u001b[1;33m=\u001b[0m \u001b[0mlen\u001b[0m\u001b[1;33m(\u001b[0m\u001b[0mparameters\u001b[0m\u001b[1;33m)\u001b[0m\u001b[1;33m\u001b[0m\u001b[1;33m\u001b[0m\u001b[0m\n\u001b[0;32m    211\u001b[0m     \u001b[1;32mif\u001b[0m \u001b[0malen\u001b[0m \u001b[1;33m!=\u001b[0m \u001b[0melen\u001b[0m\u001b[1;33m:\u001b[0m\u001b[1;33m\u001b[0m\u001b[1;33m\u001b[0m\u001b[0m\n",
      "\u001b[1;31mTypeError\u001b[0m: <class 'numpy.typing._dtype_like._SupportsDType'> is not a generic class"
     ]
    }
   ],
   "source": [
    "import pandas as pd\n",
    "import numpy as np\n",
    "import chart_studio.plotly as py\n",
    "import plotly.express as px\n",
    "import cufflinks as cf\n",
    "import seaborn as sns\n",
    "import plotly.graph_objects as go\n",
    "from datetime import datetime, timedelta\n",
    "from plotly.offline import download_plotlyjs, init_notebook_mode, plot, iplot\n"
   ]
  },
  {
   "cell_type": "markdown",
   "id": "e60db969",
   "metadata": {},
   "source": [
    "## Basics\n"
   ]
  },
  {
   "cell_type": "code",
   "execution_count": 2,
   "id": "89984853",
   "metadata": {},
   "outputs": [
    {
     "ename": "AttributeError",
     "evalue": "'DataFrame' object has no attribute 'iplot'",
     "output_type": "error",
     "traceback": [
      "\u001b[1;31m---------------------------------------------------------------------------\u001b[0m",
      "\u001b[1;31mAttributeError\u001b[0m                            Traceback (most recent call last)",
      "\u001b[1;32m~\\AppData\\Local\\Temp/ipykernel_14360/338460360.py\u001b[0m in \u001b[0;36m<module>\u001b[1;34m\u001b[0m\n\u001b[0;32m      2\u001b[0m \u001b[0mdf_1\u001b[0m \u001b[1;33m=\u001b[0m \u001b[0mpd\u001b[0m\u001b[1;33m.\u001b[0m\u001b[0mDataFrame\u001b[0m\u001b[1;33m(\u001b[0m\u001b[0marr_1\u001b[0m\u001b[1;33m,\u001b[0m \u001b[0mcolumns\u001b[0m\u001b[1;33m=\u001b[0m\u001b[1;33m[\u001b[0m\u001b[1;34m'A'\u001b[0m\u001b[1;33m,\u001b[0m \u001b[1;34m'B'\u001b[0m\u001b[1;33m,\u001b[0m \u001b[1;34m'C'\u001b[0m\u001b[1;33m,\u001b[0m \u001b[1;34m'D'\u001b[0m\u001b[1;33m]\u001b[0m\u001b[1;33m)\u001b[0m\u001b[1;33m\u001b[0m\u001b[1;33m\u001b[0m\u001b[0m\n\u001b[0;32m      3\u001b[0m \u001b[0mdf_1\u001b[0m\u001b[1;33m.\u001b[0m\u001b[0mhead\u001b[0m\u001b[1;33m(\u001b[0m\u001b[1;33m)\u001b[0m\u001b[1;33m\u001b[0m\u001b[1;33m\u001b[0m\u001b[0m\n\u001b[1;32m----> 4\u001b[1;33m \u001b[0mdf_1\u001b[0m\u001b[1;33m.\u001b[0m\u001b[0miplot\u001b[0m\u001b[1;33m(\u001b[0m\u001b[1;33m)\u001b[0m\u001b[1;33m\u001b[0m\u001b[1;33m\u001b[0m\u001b[0m\n\u001b[0m",
      "\u001b[1;32m~\\anaconda3\\lib\\site-packages\\pandas\\core\\generic.py\u001b[0m in \u001b[0;36m__getattr__\u001b[1;34m(self, name)\u001b[0m\n\u001b[0;32m   5485\u001b[0m         ):\n\u001b[0;32m   5486\u001b[0m             \u001b[1;32mreturn\u001b[0m \u001b[0mself\u001b[0m\u001b[1;33m[\u001b[0m\u001b[0mname\u001b[0m\u001b[1;33m]\u001b[0m\u001b[1;33m\u001b[0m\u001b[1;33m\u001b[0m\u001b[0m\n\u001b[1;32m-> 5487\u001b[1;33m         \u001b[1;32mreturn\u001b[0m \u001b[0mobject\u001b[0m\u001b[1;33m.\u001b[0m\u001b[0m__getattribute__\u001b[0m\u001b[1;33m(\u001b[0m\u001b[0mself\u001b[0m\u001b[1;33m,\u001b[0m \u001b[0mname\u001b[0m\u001b[1;33m)\u001b[0m\u001b[1;33m\u001b[0m\u001b[1;33m\u001b[0m\u001b[0m\n\u001b[0m\u001b[0;32m   5488\u001b[0m \u001b[1;33m\u001b[0m\u001b[0m\n\u001b[0;32m   5489\u001b[0m     \u001b[1;32mdef\u001b[0m \u001b[0m__setattr__\u001b[0m\u001b[1;33m(\u001b[0m\u001b[0mself\u001b[0m\u001b[1;33m,\u001b[0m \u001b[0mname\u001b[0m\u001b[1;33m:\u001b[0m \u001b[0mstr\u001b[0m\u001b[1;33m,\u001b[0m \u001b[0mvalue\u001b[0m\u001b[1;33m)\u001b[0m \u001b[1;33m->\u001b[0m \u001b[1;32mNone\u001b[0m\u001b[1;33m:\u001b[0m\u001b[1;33m\u001b[0m\u001b[1;33m\u001b[0m\u001b[0m\n",
      "\u001b[1;31mAttributeError\u001b[0m: 'DataFrame' object has no attribute 'iplot'"
     ]
    }
   ],
   "source": [
    "\n",
    "arr_1 = np.random.rand(50,4)\n",
    "df_1 = pd.DataFrame(arr_1, columns=['A', 'B', 'C', 'D'])\n",
    "df_1.head()\n",
    "df_1.iplot()"
   ]
  },
  {
   "cell_type": "markdown",
   "id": "84dbf2ba",
   "metadata": {},
   "source": [
    "## Line plots"
   ]
  },
  {
   "cell_type": "code",
   "execution_count": null,
   "id": "c2df3e10",
   "metadata": {},
   "outputs": [],
   "source": [
    "import plotly.graph_objects as go\n",
    "import os\n",
    "\n",
    "# Imposta il percorso della cartella\n",
    "cartella = r'C:\\Users\\MANU\\PycharmProjects\\ftls_v11-4CLASSES_sensitivity\\ftls_events\\1992_04_23_T_04_50_23_M61CAL_POST_300\\calc_parts'\n",
    "\n",
    "# Imposta il nome del file CSV\n",
    "nome_file = 'post_serie.csv'\n",
    "\n",
    "# Crea il percorso completo al file CSV\n",
    "percorso_completo = os.path.join(cartella, nome_file)\n",
    "\n",
    "# Carica il file CSV in un DataFrame\n",
    "df = pd.read_csv(percorso_completo, index_col=False)\n",
    "df['last_date'] = pd.to_datetime(df['last_date'])\n",
    "\n",
    "\n",
    "fig=go.Figure()\n",
    "fig.add_trace(go.Scatter(x=[df['last_date'].iloc[0], df['last_date'].iloc[-1], df['last_date'].iloc[-1], df['last_date'].iloc[0], df['last_date'].iloc[0]],\n",
    "                         y=[1, 1, 1.1, 1.1,1], fill='tonexty',mode='lines', line=dict(width=0, color='red'), name='banda'))\n",
    "\n",
    "\n",
    "fig.add_trace(go.Scatter(x=df['last_date'], y=[1] * len(df), mode='lines', name='b reference', line=dict(color='black')))\n",
    "\n",
    "fig.add_trace(go.Scatter(x=df['last_date'], y=df['bv_window'], mode='lines', name='bv'))\n",
    "fig.add_trace(go.Scatter(x=df['last_date'], y=df['b_plus_sigma1'], mode='lines+markers', name='bv+Sigma'))\n",
    "fig.add_trace(go.Scatter(x=df['last_date'], y=df['b_minus_sigma1'], mode='lines+markers', name='bv-Sigma', \n",
    "                        line=dict(color='firebrick', width=2, dash='dashdot')))\n",
    "\n",
    "\n",
    "\n",
    "\n",
    "# Imposta il template su 'plotly' per lo sfondo bianco e la griglia grigia\n",
    "fig.update_layout(\n",
    "    plot_bgcolor='white',  # Sfondo bianco\n",
    "    xaxis=dict(showgrid=True, gridcolor='grey', showline=True, linecolor='black', linewidth=3, ticks='outside'),  # Griglia nera per l'asse x con contorno\n",
    "    yaxis=dict(showgrid=True, gridcolor='grey', showline=True, linecolor='black', linewidth=3, ticks='outside'),\n",
    "    title='b-value temporal serie',\n",
    "    yaxis_title='bv',\n",
    "    xaxis_title='Date'# Griglia nera per l'asse y con contorno\n",
    ")\n",
    "\n",
    "fig.update_yaxes(range=[0.5, 1.5]) \n",
    "fig.update_xaxes(range=[df['last_date'].iloc[0], df['last_date'].iloc[-1]]) "
   ]
  },
  {
   "cell_type": "markdown",
   "id": "28596cc6",
   "metadata": {},
   "source": [
    "## Bar Charts \n",
    "### ad esempio per plottare il numero di terremoti su un piano piuttosto che sull'altro."
   ]
  },
  {
   "cell_type": "code",
   "execution_count": 29,
   "id": "f0823c9b",
   "metadata": {},
   "outputs": [
    {
     "data": {
      "application/vnd.plotly.v1+json": {
       "config": {
        "plotlyServerURL": "https://plot.ly"
       },
       "data": [
        {
         "alignmentgroup": "True",
         "hovertemplate": "Description=Active plane<br>Fault plane=%{x}<br>Number of evets=%{text}<extra></extra>",
         "legendgroup": "Active plane",
         "marker": {
          "color": "#636efa",
          "pattern": {
           "shape": ""
          }
         },
         "name": "Active plane",
         "offsetgroup": "Active plane",
         "orientation": "v",
         "showlegend": true,
         "text": [
          13
         ],
         "textposition": "auto",
         "type": "bar",
         "x": [
          "320_30_87_lw_18_10"
         ],
         "xaxis": "x",
         "y": [
          13
         ],
         "yaxis": "y"
        },
        {
         "alignmentgroup": "True",
         "hovertemplate": "Description=Complementary plane<br>Fault plane=%{x}<br>Number of evets=%{text}<extra></extra>",
         "legendgroup": "Complementary plane",
         "marker": {
          "color": "#EF553B",
          "pattern": {
           "shape": ""
          }
         },
         "name": "Complementary plane",
         "offsetgroup": "Complementary plane",
         "orientation": "v",
         "showlegend": true,
         "text": [
          9
         ],
         "textposition": "auto",
         "type": "bar",
         "x": [
          "143_60_91_lw_18_10"
         ],
         "xaxis": "x",
         "y": [
          9
         ],
         "yaxis": "y"
        }
       ],
       "layout": {
        "autosize": true,
        "barmode": "relative",
        "legend": {
         "title": {
          "text": "Description"
         },
         "tracegroupgap": 0
        },
        "margin": {
         "t": 60
        },
        "plot_bgcolor": "white",
        "template": {
         "data": {
          "bar": [
           {
            "error_x": {
             "color": "#2a3f5f"
            },
            "error_y": {
             "color": "#2a3f5f"
            },
            "marker": {
             "line": {
              "color": "#E5ECF6",
              "width": 0.5
             },
             "pattern": {
              "fillmode": "overlay",
              "size": 10,
              "solidity": 0.2
             }
            },
            "type": "bar"
           }
          ],
          "barpolar": [
           {
            "marker": {
             "line": {
              "color": "#E5ECF6",
              "width": 0.5
             },
             "pattern": {
              "fillmode": "overlay",
              "size": 10,
              "solidity": 0.2
             }
            },
            "type": "barpolar"
           }
          ],
          "carpet": [
           {
            "aaxis": {
             "endlinecolor": "#2a3f5f",
             "gridcolor": "white",
             "linecolor": "white",
             "minorgridcolor": "white",
             "startlinecolor": "#2a3f5f"
            },
            "baxis": {
             "endlinecolor": "#2a3f5f",
             "gridcolor": "white",
             "linecolor": "white",
             "minorgridcolor": "white",
             "startlinecolor": "#2a3f5f"
            },
            "type": "carpet"
           }
          ],
          "choropleth": [
           {
            "colorbar": {
             "outlinewidth": 0,
             "ticks": ""
            },
            "type": "choropleth"
           }
          ],
          "contour": [
           {
            "colorbar": {
             "outlinewidth": 0,
             "ticks": ""
            },
            "colorscale": [
             [
              0,
              "#0d0887"
             ],
             [
              0.1111111111111111,
              "#46039f"
             ],
             [
              0.2222222222222222,
              "#7201a8"
             ],
             [
              0.3333333333333333,
              "#9c179e"
             ],
             [
              0.4444444444444444,
              "#bd3786"
             ],
             [
              0.5555555555555556,
              "#d8576b"
             ],
             [
              0.6666666666666666,
              "#ed7953"
             ],
             [
              0.7777777777777778,
              "#fb9f3a"
             ],
             [
              0.8888888888888888,
              "#fdca26"
             ],
             [
              1,
              "#f0f921"
             ]
            ],
            "type": "contour"
           }
          ],
          "contourcarpet": [
           {
            "colorbar": {
             "outlinewidth": 0,
             "ticks": ""
            },
            "type": "contourcarpet"
           }
          ],
          "heatmap": [
           {
            "colorbar": {
             "outlinewidth": 0,
             "ticks": ""
            },
            "colorscale": [
             [
              0,
              "#0d0887"
             ],
             [
              0.1111111111111111,
              "#46039f"
             ],
             [
              0.2222222222222222,
              "#7201a8"
             ],
             [
              0.3333333333333333,
              "#9c179e"
             ],
             [
              0.4444444444444444,
              "#bd3786"
             ],
             [
              0.5555555555555556,
              "#d8576b"
             ],
             [
              0.6666666666666666,
              "#ed7953"
             ],
             [
              0.7777777777777778,
              "#fb9f3a"
             ],
             [
              0.8888888888888888,
              "#fdca26"
             ],
             [
              1,
              "#f0f921"
             ]
            ],
            "type": "heatmap"
           }
          ],
          "heatmapgl": [
           {
            "colorbar": {
             "outlinewidth": 0,
             "ticks": ""
            },
            "colorscale": [
             [
              0,
              "#0d0887"
             ],
             [
              0.1111111111111111,
              "#46039f"
             ],
             [
              0.2222222222222222,
              "#7201a8"
             ],
             [
              0.3333333333333333,
              "#9c179e"
             ],
             [
              0.4444444444444444,
              "#bd3786"
             ],
             [
              0.5555555555555556,
              "#d8576b"
             ],
             [
              0.6666666666666666,
              "#ed7953"
             ],
             [
              0.7777777777777778,
              "#fb9f3a"
             ],
             [
              0.8888888888888888,
              "#fdca26"
             ],
             [
              1,
              "#f0f921"
             ]
            ],
            "type": "heatmapgl"
           }
          ],
          "histogram": [
           {
            "marker": {
             "pattern": {
              "fillmode": "overlay",
              "size": 10,
              "solidity": 0.2
             }
            },
            "type": "histogram"
           }
          ],
          "histogram2d": [
           {
            "colorbar": {
             "outlinewidth": 0,
             "ticks": ""
            },
            "colorscale": [
             [
              0,
              "#0d0887"
             ],
             [
              0.1111111111111111,
              "#46039f"
             ],
             [
              0.2222222222222222,
              "#7201a8"
             ],
             [
              0.3333333333333333,
              "#9c179e"
             ],
             [
              0.4444444444444444,
              "#bd3786"
             ],
             [
              0.5555555555555556,
              "#d8576b"
             ],
             [
              0.6666666666666666,
              "#ed7953"
             ],
             [
              0.7777777777777778,
              "#fb9f3a"
             ],
             [
              0.8888888888888888,
              "#fdca26"
             ],
             [
              1,
              "#f0f921"
             ]
            ],
            "type": "histogram2d"
           }
          ],
          "histogram2dcontour": [
           {
            "colorbar": {
             "outlinewidth": 0,
             "ticks": ""
            },
            "colorscale": [
             [
              0,
              "#0d0887"
             ],
             [
              0.1111111111111111,
              "#46039f"
             ],
             [
              0.2222222222222222,
              "#7201a8"
             ],
             [
              0.3333333333333333,
              "#9c179e"
             ],
             [
              0.4444444444444444,
              "#bd3786"
             ],
             [
              0.5555555555555556,
              "#d8576b"
             ],
             [
              0.6666666666666666,
              "#ed7953"
             ],
             [
              0.7777777777777778,
              "#fb9f3a"
             ],
             [
              0.8888888888888888,
              "#fdca26"
             ],
             [
              1,
              "#f0f921"
             ]
            ],
            "type": "histogram2dcontour"
           }
          ],
          "mesh3d": [
           {
            "colorbar": {
             "outlinewidth": 0,
             "ticks": ""
            },
            "type": "mesh3d"
           }
          ],
          "parcoords": [
           {
            "line": {
             "colorbar": {
              "outlinewidth": 0,
              "ticks": ""
             }
            },
            "type": "parcoords"
           }
          ],
          "pie": [
           {
            "automargin": true,
            "type": "pie"
           }
          ],
          "scatter": [
           {
            "marker": {
             "colorbar": {
              "outlinewidth": 0,
              "ticks": ""
             }
            },
            "type": "scatter"
           }
          ],
          "scatter3d": [
           {
            "line": {
             "colorbar": {
              "outlinewidth": 0,
              "ticks": ""
             }
            },
            "marker": {
             "colorbar": {
              "outlinewidth": 0,
              "ticks": ""
             }
            },
            "type": "scatter3d"
           }
          ],
          "scattercarpet": [
           {
            "marker": {
             "colorbar": {
              "outlinewidth": 0,
              "ticks": ""
             }
            },
            "type": "scattercarpet"
           }
          ],
          "scattergeo": [
           {
            "marker": {
             "colorbar": {
              "outlinewidth": 0,
              "ticks": ""
             }
            },
            "type": "scattergeo"
           }
          ],
          "scattergl": [
           {
            "marker": {
             "colorbar": {
              "outlinewidth": 0,
              "ticks": ""
             }
            },
            "type": "scattergl"
           }
          ],
          "scattermapbox": [
           {
            "marker": {
             "colorbar": {
              "outlinewidth": 0,
              "ticks": ""
             }
            },
            "type": "scattermapbox"
           }
          ],
          "scatterpolar": [
           {
            "marker": {
             "colorbar": {
              "outlinewidth": 0,
              "ticks": ""
             }
            },
            "type": "scatterpolar"
           }
          ],
          "scatterpolargl": [
           {
            "marker": {
             "colorbar": {
              "outlinewidth": 0,
              "ticks": ""
             }
            },
            "type": "scatterpolargl"
           }
          ],
          "scatterternary": [
           {
            "marker": {
             "colorbar": {
              "outlinewidth": 0,
              "ticks": ""
             }
            },
            "type": "scatterternary"
           }
          ],
          "surface": [
           {
            "colorbar": {
             "outlinewidth": 0,
             "ticks": ""
            },
            "colorscale": [
             [
              0,
              "#0d0887"
             ],
             [
              0.1111111111111111,
              "#46039f"
             ],
             [
              0.2222222222222222,
              "#7201a8"
             ],
             [
              0.3333333333333333,
              "#9c179e"
             ],
             [
              0.4444444444444444,
              "#bd3786"
             ],
             [
              0.5555555555555556,
              "#d8576b"
             ],
             [
              0.6666666666666666,
              "#ed7953"
             ],
             [
              0.7777777777777778,
              "#fb9f3a"
             ],
             [
              0.8888888888888888,
              "#fdca26"
             ],
             [
              1,
              "#f0f921"
             ]
            ],
            "type": "surface"
           }
          ],
          "table": [
           {
            "cells": {
             "fill": {
              "color": "#EBF0F8"
             },
             "line": {
              "color": "white"
             }
            },
            "header": {
             "fill": {
              "color": "#C8D4E3"
             },
             "line": {
              "color": "white"
             }
            },
            "type": "table"
           }
          ]
         },
         "layout": {
          "annotationdefaults": {
           "arrowcolor": "#2a3f5f",
           "arrowhead": 0,
           "arrowwidth": 1
          },
          "autotypenumbers": "strict",
          "coloraxis": {
           "colorbar": {
            "outlinewidth": 0,
            "ticks": ""
           }
          },
          "colorscale": {
           "diverging": [
            [
             0,
             "#8e0152"
            ],
            [
             0.1,
             "#c51b7d"
            ],
            [
             0.2,
             "#de77ae"
            ],
            [
             0.3,
             "#f1b6da"
            ],
            [
             0.4,
             "#fde0ef"
            ],
            [
             0.5,
             "#f7f7f7"
            ],
            [
             0.6,
             "#e6f5d0"
            ],
            [
             0.7,
             "#b8e186"
            ],
            [
             0.8,
             "#7fbc41"
            ],
            [
             0.9,
             "#4d9221"
            ],
            [
             1,
             "#276419"
            ]
           ],
           "sequential": [
            [
             0,
             "#0d0887"
            ],
            [
             0.1111111111111111,
             "#46039f"
            ],
            [
             0.2222222222222222,
             "#7201a8"
            ],
            [
             0.3333333333333333,
             "#9c179e"
            ],
            [
             0.4444444444444444,
             "#bd3786"
            ],
            [
             0.5555555555555556,
             "#d8576b"
            ],
            [
             0.6666666666666666,
             "#ed7953"
            ],
            [
             0.7777777777777778,
             "#fb9f3a"
            ],
            [
             0.8888888888888888,
             "#fdca26"
            ],
            [
             1,
             "#f0f921"
            ]
           ],
           "sequentialminus": [
            [
             0,
             "#0d0887"
            ],
            [
             0.1111111111111111,
             "#46039f"
            ],
            [
             0.2222222222222222,
             "#7201a8"
            ],
            [
             0.3333333333333333,
             "#9c179e"
            ],
            [
             0.4444444444444444,
             "#bd3786"
            ],
            [
             0.5555555555555556,
             "#d8576b"
            ],
            [
             0.6666666666666666,
             "#ed7953"
            ],
            [
             0.7777777777777778,
             "#fb9f3a"
            ],
            [
             0.8888888888888888,
             "#fdca26"
            ],
            [
             1,
             "#f0f921"
            ]
           ]
          },
          "colorway": [
           "#636efa",
           "#EF553B",
           "#00cc96",
           "#ab63fa",
           "#FFA15A",
           "#19d3f3",
           "#FF6692",
           "#B6E880",
           "#FF97FF",
           "#FECB52"
          ],
          "font": {
           "color": "#2a3f5f"
          },
          "geo": {
           "bgcolor": "white",
           "lakecolor": "white",
           "landcolor": "#E5ECF6",
           "showlakes": true,
           "showland": true,
           "subunitcolor": "white"
          },
          "hoverlabel": {
           "align": "left"
          },
          "hovermode": "closest",
          "mapbox": {
           "style": "light"
          },
          "paper_bgcolor": "white",
          "plot_bgcolor": "#E5ECF6",
          "polar": {
           "angularaxis": {
            "gridcolor": "white",
            "linecolor": "white",
            "ticks": ""
           },
           "bgcolor": "#E5ECF6",
           "radialaxis": {
            "gridcolor": "white",
            "linecolor": "white",
            "ticks": ""
           }
          },
          "scene": {
           "xaxis": {
            "backgroundcolor": "#E5ECF6",
            "gridcolor": "white",
            "gridwidth": 2,
            "linecolor": "white",
            "showbackground": true,
            "ticks": "",
            "zerolinecolor": "white"
           },
           "yaxis": {
            "backgroundcolor": "#E5ECF6",
            "gridcolor": "white",
            "gridwidth": 2,
            "linecolor": "white",
            "showbackground": true,
            "ticks": "",
            "zerolinecolor": "white"
           },
           "zaxis": {
            "backgroundcolor": "#E5ECF6",
            "gridcolor": "white",
            "gridwidth": 2,
            "linecolor": "white",
            "showbackground": true,
            "ticks": "",
            "zerolinecolor": "white"
           }
          },
          "shapedefaults": {
           "line": {
            "color": "#2a3f5f"
           }
          },
          "ternary": {
           "aaxis": {
            "gridcolor": "white",
            "linecolor": "white",
            "ticks": ""
           },
           "baxis": {
            "gridcolor": "white",
            "linecolor": "white",
            "ticks": ""
           },
           "bgcolor": "#E5ECF6",
           "caxis": {
            "gridcolor": "white",
            "linecolor": "white",
            "ticks": ""
           }
          },
          "title": {
           "x": 0.05
          },
          "xaxis": {
           "automargin": true,
           "gridcolor": "white",
           "linecolor": "white",
           "ticks": "",
           "title": {
            "standoff": 15
           },
           "zerolinecolor": "white",
           "zerolinewidth": 2
          },
          "yaxis": {
           "automargin": true,
           "gridcolor": "white",
           "linecolor": "white",
           "ticks": "",
           "title": {
            "standoff": 15
           },
           "zerolinecolor": "white",
           "zerolinewidth": 2
          }
         }
        },
        "title": {
         "text": "N. of events occurred in each fault plane within the first 1 hour"
        },
        "xaxis": {
         "anchor": "y",
         "autorange": true,
         "domain": [
          0,
          1
         ],
         "gridcolor": "grey",
         "linecolor": "black",
         "linewidth": 2,
         "range": [
          -0.5,
          1.5
         ],
         "showgrid": true,
         "showline": true,
         "title": {
          "text": "Fault plane"
         },
         "type": "category"
        },
        "yaxis": {
         "anchor": "x",
         "autorange": true,
         "domain": [
          0,
          1
         ],
         "gridcolor": "grey",
         "linecolor": "black",
         "linewidth": 2,
         "range": [
          0,
          13.68421052631579
         ],
         "showgrid": true,
         "showline": true,
         "title": {
          "text": "Number of evets"
         },
         "type": "linear"
        }
       }
      },
      "image/png": "[encoded data removed]",
      "text/html": [
       "<div>                            <div id=\"f1dbc52c-43a6-46dd-8833-6736d3aaa968\" class=\"plotly-graph-div\" style=\"height:525px; width:100%;\"></div>            <script type=\"text/javascript\">                require([\"plotly\"], function(Plotly) {                    window.PLOTLYENV=window.PLOTLYENV || {};                                    if (document.getElementById(\"f1dbc52c-43a6-46dd-8833-6736d3aaa968\")) {                    Plotly.newPlot(                        \"f1dbc52c-43a6-46dd-8833-6736d3aaa968\",                        [{\"alignmentgroup\":\"True\",\"hovertemplate\":\"Description=Active plane<br>Fault plane=%{x}<br>Number of evets=%{text}<extra></extra>\",\"legendgroup\":\"Active plane\",\"marker\":{\"color\":\"#636efa\",\"pattern\":{\"shape\":\"\"}},\"name\":\"Active plane\",\"offsetgroup\":\"Active plane\",\"orientation\":\"v\",\"showlegend\":true,\"text\":[13.0],\"textposition\":\"auto\",\"x\":[\"320_30_87_lw_18_10\"],\"xaxis\":\"x\",\"y\":[13],\"yaxis\":\"y\",\"type\":\"bar\"},{\"alignmentgroup\":\"True\",\"hovertemplate\":\"Description=Complementary plane<br>Fault plane=%{x}<br>Number of evets=%{text}<extra></extra>\",\"legendgroup\":\"Complementary plane\",\"marker\":{\"color\":\"#EF553B\",\"pattern\":{\"shape\":\"\"}},\"name\":\"Complementary plane\",\"offsetgroup\":\"Complementary plane\",\"orientation\":\"v\",\"showlegend\":true,\"text\":[9.0],\"textposition\":\"auto\",\"x\":[\"143_60_91_lw_18_10\"],\"xaxis\":\"x\",\"y\":[9],\"yaxis\":\"y\",\"type\":\"bar\"}],                        {\"template\":{\"data\":{\"bar\":[{\"error_x\":{\"color\":\"#2a3f5f\"},\"error_y\":{\"color\":\"#2a3f5f\"},\"marker\":{\"line\":{\"color\":\"#E5ECF6\",\"width\":0.5},\"pattern\":{\"fillmode\":\"overlay\",\"size\":10,\"solidity\":0.2}},\"type\":\"bar\"}],\"barpolar\":[{\"marker\":{\"line\":{\"color\":\"#E5ECF6\",\"width\":0.5},\"pattern\":{\"fillmode\":\"overlay\",\"size\":10,\"solidity\":0.2}},\"type\":\"barpolar\"}],\"carpet\":[{\"aaxis\":{\"endlinecolor\":\"#2a3f5f\",\"gridcolor\":\"white\",\"linecolor\":\"white\",\"minorgridcolor\":\"white\",\"startlinecolor\":\"#2a3f5f\"},\"baxis\":{\"endlinecolor\":\"#2a3f5f\",\"gridcolor\":\"white\",\"linecolor\":\"white\",\"minorgridcolor\":\"white\",\"startlinecolor\":\"#2a3f5f\"},\"type\":\"carpet\"}],\"choropleth\":[{\"colorbar\":{\"outlinewidth\":0,\"ticks\":\"\"},\"type\":\"choropleth\"}],\"contour\":[{\"colorbar\":{\"outlinewidth\":0,\"ticks\":\"\"},\"colorscale\":[[0.0,\"#0d0887\"],[0.1111111111111111,\"#46039f\"],[0.2222222222222222,\"#7201a8\"],[0.3333333333333333,\"#9c179e\"],[0.4444444444444444,\"#bd3786\"],[0.5555555555555556,\"#d8576b\"],[0.6666666666666666,\"#ed7953\"],[0.7777777777777778,\"#fb9f3a\"],[0.8888888888888888,\"#fdca26\"],[1.0,\"#f0f921\"]],\"type\":\"contour\"}],\"contourcarpet\":[{\"colorbar\":{\"outlinewidth\":0,\"ticks\":\"\"},\"type\":\"contourcarpet\"}],\"heatmap\":[{\"colorbar\":{\"outlinewidth\":0,\"ticks\":\"\"},\"colorscale\":[[0.0,\"#0d0887\"],[0.1111111111111111,\"#46039f\"],[0.2222222222222222,\"#7201a8\"],[0.3333333333333333,\"#9c179e\"],[0.4444444444444444,\"#bd3786\"],[0.5555555555555556,\"#d8576b\"],[0.6666666666666666,\"#ed7953\"],[0.7777777777777778,\"#fb9f3a\"],[0.8888888888888888,\"#fdca26\"],[1.0,\"#f0f921\"]],\"type\":\"heatmap\"}],\"heatmapgl\":[{\"colorbar\":{\"outlinewidth\":0,\"ticks\":\"\"},\"colorscale\":[[0.0,\"#0d0887\"],[0.1111111111111111,\"#46039f\"],[0.2222222222222222,\"#7201a8\"],[0.3333333333333333,\"#9c179e\"],[0.4444444444444444,\"#bd3786\"],[0.5555555555555556,\"#d8576b\"],[0.6666666666666666,\"#ed7953\"],[0.7777777777777778,\"#fb9f3a\"],[0.8888888888888888,\"#fdca26\"],[1.0,\"#f0f921\"]],\"type\":\"heatmapgl\"}],\"histogram\":[{\"marker\":{\"pattern\":{\"fillmode\":\"overlay\",\"size\":10,\"solidity\":0.2}},\"type\":\"histogram\"}],\"histogram2d\":[{\"colorbar\":{\"outlinewidth\":0,\"ticks\":\"\"},\"colorscale\":[[0.0,\"#0d0887\"],[0.1111111111111111,\"#46039f\"],[0.2222222222222222,\"#7201a8\"],[0.3333333333333333,\"#9c179e\"],[0.4444444444444444,\"#bd3786\"],[0.5555555555555556,\"#d8576b\"],[0.6666666666666666,\"#ed7953\"],[0.7777777777777778,\"#fb9f3a\"],[0.8888888888888888,\"#fdca26\"],[1.0,\"#f0f921\"]],\"type\":\"histogram2d\"}],\"histogram2dcontour\":[{\"colorbar\":{\"outlinewidth\":0,\"ticks\":\"\"},\"colorscale\":[[0.0,\"#0d0887\"],[0.1111111111111111,\"#46039f\"],[0.2222222222222222,\"#7201a8\"],[0.3333333333333333,\"#9c179e\"],[0.4444444444444444,\"#bd3786\"],[0.5555555555555556,\"#d8576b\"],[0.6666666666666666,\"#ed7953\"],[0.7777777777777778,\"#fb9f3a\"],[0.8888888888888888,\"#fdca26\"],[1.0,\"#f0f921\"]],\"type\":\"histogram2dcontour\"}],\"mesh3d\":[{\"colorbar\":{\"outlinewidth\":0,\"ticks\":\"\"},\"type\":\"mesh3d\"}],\"parcoords\":[{\"line\":{\"colorbar\":{\"outlinewidth\":0,\"ticks\":\"\"}},\"type\":\"parcoords\"}],\"pie\":[{\"automargin\":true,\"type\":\"pie\"}],\"scatter\":[{\"marker\":{\"colorbar\":{\"outlinewidth\":0,\"ticks\":\"\"}},\"type\":\"scatter\"}],\"scatter3d\":[{\"line\":{\"colorbar\":{\"outlinewidth\":0,\"ticks\":\"\"}},\"marker\":{\"colorbar\":{\"outlinewidth\":0,\"ticks\":\"\"}},\"type\":\"scatter3d\"}],\"scattercarpet\":[{\"marker\":{\"colorbar\":{\"outlinewidth\":0,\"ticks\":\"\"}},\"type\":\"scattercarpet\"}],\"scattergeo\":[{\"marker\":{\"colorbar\":{\"outlinewidth\":0,\"ticks\":\"\"}},\"type\":\"scattergeo\"}],\"scattergl\":[{\"marker\":{\"colorbar\":{\"outlinewidth\":0,\"ticks\":\"\"}},\"type\":\"scattergl\"}],\"scattermapbox\":[{\"marker\":{\"colorbar\":{\"outlinewidth\":0,\"ticks\":\"\"}},\"type\":\"scattermapbox\"}],\"scatterpolar\":[{\"marker\":{\"colorbar\":{\"outlinewidth\":0,\"ticks\":\"\"}},\"type\":\"scatterpolar\"}],\"scatterpolargl\":[{\"marker\":{\"colorbar\":{\"outlinewidth\":0,\"ticks\":\"\"}},\"type\":\"scatterpolargl\"}],\"scatterternary\":[{\"marker\":{\"colorbar\":{\"outlinewidth\":0,\"ticks\":\"\"}},\"type\":\"scatterternary\"}],\"surface\":[{\"colorbar\":{\"outlinewidth\":0,\"ticks\":\"\"},\"colorscale\":[[0.0,\"#0d0887\"],[0.1111111111111111,\"#46039f\"],[0.2222222222222222,\"#7201a8\"],[0.3333333333333333,\"#9c179e\"],[0.4444444444444444,\"#bd3786\"],[0.5555555555555556,\"#d8576b\"],[0.6666666666666666,\"#ed7953\"],[0.7777777777777778,\"#fb9f3a\"],[0.8888888888888888,\"#fdca26\"],[1.0,\"#f0f921\"]],\"type\":\"surface\"}],\"table\":[{\"cells\":{\"fill\":{\"color\":\"#EBF0F8\"},\"line\":{\"color\":\"white\"}},\"header\":{\"fill\":{\"color\":\"#C8D4E3\"},\"line\":{\"color\":\"white\"}},\"type\":\"table\"}]},\"layout\":{\"annotationdefaults\":{\"arrowcolor\":\"#2a3f5f\",\"arrowhead\":0,\"arrowwidth\":1},\"autotypenumbers\":\"strict\",\"coloraxis\":{\"colorbar\":{\"outlinewidth\":0,\"ticks\":\"\"}},\"colorscale\":{\"diverging\":[[0,\"#8e0152\"],[0.1,\"#c51b7d\"],[0.2,\"#de77ae\"],[0.3,\"#f1b6da\"],[0.4,\"#fde0ef\"],[0.5,\"#f7f7f7\"],[0.6,\"#e6f5d0\"],[0.7,\"#b8e186\"],[0.8,\"#7fbc41\"],[0.9,\"#4d9221\"],[1,\"#276419\"]],\"sequential\":[[0.0,\"#0d0887\"],[0.1111111111111111,\"#46039f\"],[0.2222222222222222,\"#7201a8\"],[0.3333333333333333,\"#9c179e\"],[0.4444444444444444,\"#bd3786\"],[0.5555555555555556,\"#d8576b\"],[0.6666666666666666,\"#ed7953\"],[0.7777777777777778,\"#fb9f3a\"],[0.8888888888888888,\"#fdca26\"],[1.0,\"#f0f921\"]],\"sequentialminus\":[[0.0,\"#0d0887\"],[0.1111111111111111,\"#46039f\"],[0.2222222222222222,\"#7201a8\"],[0.3333333333333333,\"#9c179e\"],[0.4444444444444444,\"#bd3786\"],[0.5555555555555556,\"#d8576b\"],[0.6666666666666666,\"#ed7953\"],[0.7777777777777778,\"#fb9f3a\"],[0.8888888888888888,\"#fdca26\"],[1.0,\"#f0f921\"]]},\"colorway\":[\"#636efa\",\"#EF553B\",\"#00cc96\",\"#ab63fa\",\"#FFA15A\",\"#19d3f3\",\"#FF6692\",\"#B6E880\",\"#FF97FF\",\"#FECB52\"],\"font\":{\"color\":\"#2a3f5f\"},\"geo\":{\"bgcolor\":\"white\",\"lakecolor\":\"white\",\"landcolor\":\"#E5ECF6\",\"showlakes\":true,\"showland\":true,\"subunitcolor\":\"white\"},\"hoverlabel\":{\"align\":\"left\"},\"hovermode\":\"closest\",\"mapbox\":{\"style\":\"light\"},\"paper_bgcolor\":\"white\",\"plot_bgcolor\":\"#E5ECF6\",\"polar\":{\"angularaxis\":{\"gridcolor\":\"white\",\"linecolor\":\"white\",\"ticks\":\"\"},\"bgcolor\":\"#E5ECF6\",\"radialaxis\":{\"gridcolor\":\"white\",\"linecolor\":\"white\",\"ticks\":\"\"}},\"scene\":{\"xaxis\":{\"backgroundcolor\":\"#E5ECF6\",\"gridcolor\":\"white\",\"gridwidth\":2,\"linecolor\":\"white\",\"showbackground\":true,\"ticks\":\"\",\"zerolinecolor\":\"white\"},\"yaxis\":{\"backgroundcolor\":\"#E5ECF6\",\"gridcolor\":\"white\",\"gridwidth\":2,\"linecolor\":\"white\",\"showbackground\":true,\"ticks\":\"\",\"zerolinecolor\":\"white\"},\"zaxis\":{\"backgroundcolor\":\"#E5ECF6\",\"gridcolor\":\"white\",\"gridwidth\":2,\"linecolor\":\"white\",\"showbackground\":true,\"ticks\":\"\",\"zerolinecolor\":\"white\"}},\"shapedefaults\":{\"line\":{\"color\":\"#2a3f5f\"}},\"ternary\":{\"aaxis\":{\"gridcolor\":\"white\",\"linecolor\":\"white\",\"ticks\":\"\"},\"baxis\":{\"gridcolor\":\"white\",\"linecolor\":\"white\",\"ticks\":\"\"},\"bgcolor\":\"#E5ECF6\",\"caxis\":{\"gridcolor\":\"white\",\"linecolor\":\"white\",\"ticks\":\"\"}},\"title\":{\"x\":0.05},\"xaxis\":{\"automargin\":true,\"gridcolor\":\"white\",\"linecolor\":\"white\",\"ticks\":\"\",\"title\":{\"standoff\":15},\"zerolinecolor\":\"white\",\"zerolinewidth\":2},\"yaxis\":{\"automargin\":true,\"gridcolor\":\"white\",\"linecolor\":\"white\",\"ticks\":\"\",\"title\":{\"standoff\":15},\"zerolinecolor\":\"white\",\"zerolinewidth\":2}}},\"xaxis\":{\"anchor\":\"y\",\"domain\":[0.0,1.0],\"title\":{\"text\":\"Fault plane\"},\"showgrid\":true,\"gridcolor\":\"grey\",\"showline\":true,\"linecolor\":\"black\",\"linewidth\":2},\"yaxis\":{\"anchor\":\"x\",\"domain\":[0.0,1.0],\"title\":{\"text\":\"Number of evets\"},\"showgrid\":true,\"gridcolor\":\"grey\",\"showline\":true,\"linecolor\":\"black\",\"linewidth\":2},\"legend\":{\"title\":{\"text\":\"Description\"},\"tracegroupgap\":0},\"margin\":{\"t\":60},\"barmode\":\"relative\",\"plot_bgcolor\":\"white\",\"title\":{\"text\":\"N. of events occurred in each fault plane within the first 1 hour\"}},                        {\"responsive\": true}                    ).then(function(){\n",
       "                            \n",
       "var gd = document.getElementById('f1dbc52c-43a6-46dd-8833-6736d3aaa968');\n",
       "var x = new MutationObserver(function (mutations, observer) {{\n",
       "        var display = window.getComputedStyle(gd).display;\n",
       "        if (!display || display === 'none') {{\n",
       "            console.log([gd, 'removed!']);\n",
       "            Plotly.purge(gd);\n",
       "            observer.disconnect();\n",
       "        }}\n",
       "}});\n",
       "\n",
       "// Listen for the removal of the full notebook cells\n",
       "var notebookContainer = gd.closest('#notebook-container');\n",
       "if (notebookContainer) {{\n",
       "    x.observe(notebookContainer, {childList: true});\n",
       "}}\n",
       "\n",
       "// Listen for the clearing of the current output cell\n",
       "var outputEl = gd.closest('.output');\n",
       "if (outputEl) {{\n",
       "    x.observe(outputEl, {childList: true});\n",
       "}}\n",
       "\n",
       "                        })                };                });            </script>        </div>"
      ]
     },
     "metadata": {},
     "output_type": "display_data"
    }
   ],
   "source": [
    "folder = r'C:\\Users\\MANU\\PycharmProjects\\ftls_v11-4CLASSES_sensitivity\\ftls_events\\1983_05_02_T_23_42_38_M67CAL_staking'\n",
    "\n",
    "def bar_chart_fp(folder):\n",
    "    def get_isin_col(plane):\n",
    "        return f\"in {plane['name']}\"\n",
    "\n",
    "    import pandas as pd\n",
    "    import numpy as np\n",
    "    import plotly.express as px\n",
    "    import os \n",
    "    active_plane_path=os.path.join(folder,'calc_parts','fault_planes.json')\n",
    "\n",
    "    import json\n",
    "    with open(active_plane_path, \"r\") as json_file:\n",
    "        fault_planes = json.load(json_file)\n",
    "\n",
    "    cartella = os.path.join(folder, 'catalog')\n",
    "\n",
    "    # Imposta il nome del file CSV\n",
    "    nome_file = 'catalog_during_plane_determination_period_1_hr.csv'\n",
    "\n",
    "    # Crea il percorso completo al file CSV\n",
    "    percorso_completo = os.path.join(cartella, nome_file)\n",
    "\n",
    "    # Carica il file CSV in un DataFrame\n",
    "    soon_evs = pd.read_csv(percorso_completo, index_col=False)\n",
    "\n",
    "\n",
    "    in_plane_region = soon_evs[get_isin_col(fault_planes[0])]\n",
    "    nearby_evs_1 = soon_evs[in_plane_region]\n",
    "    in_plane_region = soon_evs[get_isin_col(fault_planes[1])]\n",
    "    nearby_evs_2 = soon_evs[in_plane_region]\n",
    "\n",
    "    fp_list=[fault_planes[0]['name'],fault_planes[1]['name']]\n",
    "    type_list=[fault_planes[0]['type'],fault_planes[1]['type']]\n",
    "    strike_list=[fault_planes[0]['strike'],fault_planes[1]['strike']]\n",
    "    dip_list=[fault_planes[0]['dip'],fault_planes[1]['dip']]\n",
    "    rake_list=[fault_planes[0]['rake'],fault_planes[1]['rake']]\n",
    "    num=[len(nearby_evs_1),len(nearby_evs_2)]\n",
    "    bar_df = pd.DataFrame( columns=['fault plane', 'type', 'strike', 'dip', 'rake', 'num', 'Description'])\n",
    "    bar_df['fault plane']=fp_list\n",
    "    bar_df['type']=type_list\n",
    "    bar_df['strike']=strike_list\n",
    "    bar_df['dip']=dip_list\n",
    "    bar_df['rake']=rake_list\n",
    "    bar_df['num']=num\n",
    "    bar_df['fault plane'] = bar_df['fault plane'].str.replace('faultplane_srd_', '')\n",
    "    indice_max_num = bar_df['num'].idxmax()\n",
    "\n",
    "    # Trova l'indice della riga con il valore 'num' più basso\n",
    "    indice_min_num = bar_df['num'].idxmin()\n",
    "\n",
    "    # Assegna \"Active plane\" alla colonna 'description' per la riga con num maggiore\n",
    "    bar_df.at[indice_max_num, 'Description'] = 'Active plane'\n",
    "\n",
    "    # Assegna \"Complementary plane\" alla colonna 'description' per la riga con num inferiore\n",
    "    bar_df.at[indice_min_num, 'Description'] = 'Complementary plane'\n",
    "\n",
    "    fig=px.bar(bar_df, x='fault plane', y='num', text='num', color='Description',  labels={'fault plane': 'Fault plane', 'num': 'Number of evets'}, barmode='relative')\n",
    "\n",
    "    fig.update_layout(\n",
    "        plot_bgcolor='white',  # Sfondo bianco\n",
    "        xaxis=dict(showgrid=True, gridcolor='grey', showline=True, linecolor='black', linewidth=2),  # Griglia nera per l'asse x con contorno\n",
    "        yaxis=dict(showgrid=True, gridcolor='grey', showline=True, linecolor='black', linewidth=2),  # Griglia nera per l'asse y con contorno\n",
    "        title= 'N. of events occurred in each fault plane within the first 1 hour'\n",
    "    )\n",
    "    fig.show()\n",
    "    \n",
    "bar_chart_fp(folder)"
   ]
  },
  {
   "cell_type": "markdown",
   "id": "85e99475",
   "metadata": {},
   "source": [
    "## Scatter plot\n",
    "### per rappresentare la magnitudo dei terremoti rispetto alla data \n"
   ]
  },
  {
   "cell_type": "code",
   "execution_count": null,
   "id": "c259ae1a",
   "metadata": {},
   "outputs": [],
   "source": [
    "# dati necessari \n",
    "# catalogo prima ora, catalogo post \n",
    "folder = r'C:\\Users\\MANU\\PycharmProjects\\ftls_v11-4CLASSES_sensitivity\\ftls_events\\1983_05_02_T_23_42_38_M67CAL_staking'\n",
    "\n",
    "def scatter_plot_evs(folder):\n",
    "    import plotly.graph_objects as go\n",
    "    import os\n",
    "    import pandas as pd\n",
    "    import json\n",
    "    from datetime import datetime, timedelta\n",
    "    active_plane_path=os.path.join(folder,'calc_parts','active_planes.json')\n",
    "    # Apri il file in modalità lettura e carica il contenuto come oggetto Python\n",
    "    with open(active_plane_path, \"r\") as json_file:\n",
    "        active_plane = json.load(json_file)\n",
    "\n",
    "    with open(os.path.join(folder,'config', 'main_event.json'), \"r\") as json_file:\n",
    "        mainevt = json.load(json_file)\n",
    "\n",
    "        mainevent = pd.Series(mainevt)\n",
    "        mainevent['fulldate'] = datetime(**mainevent[['year', 'day', 'month', 'hour', 'minute']].astype(int).to_dict()\n",
    "                                         ) + timedelta(seconds=mainevent.at['second'])\n",
    "    ap_name=active_plane['name']\n",
    "    # soon evs \n",
    "    nome_file = 'catalog_during_plane_determination_period_1_hr.csv'\n",
    "\n",
    "    # Crea il percorso completo al file CSV\n",
    "    percorso_completo = os.path.join(folder,'catalog', nome_file)\n",
    "\n",
    "    # Carica il file CSV in un DataFrame\n",
    "    soon_evs = pd.read_csv(percorso_completo, index_col=False)\n",
    "\n",
    "\n",
    "    def get_isin_col(plane):\n",
    "        return f\"in {plane['name']}\"\n",
    "\n",
    "    in_plane_region = soon_evs[get_isin_col(active_plane)]\n",
    "    nearby_evs_1 = soon_evs[in_plane_region]\n",
    "    nearby_evs_1['fulldate'] = pd.to_datetime(nearby_evs_1['fulldate'])\n",
    "    nearby_evs_1['Time window']='Events in the first hour'\n",
    "    # Crea il percorso completo al file CSV\n",
    "    percorso_completo = os.path.join(folder,'calc_parts',active_plane['name']+'_post_cat.csv' )\n",
    "\n",
    "    # Carica il file CSV in un DataFrame\n",
    "    post_cat = pd.read_csv(percorso_completo, index_col=False)\n",
    "    post_cat['fulldate'] = pd.to_datetime(post_cat['fulldate'])\n",
    "    reference_date = mainevent['fulldate'] + pd.DateOffset(days=3)\n",
    "\n",
    "    # Crea la colonna \"Color\" in base alla condizione\n",
    "    post_cat['Time window'] = np.where(post_cat['fulldate'] < reference_date, 'Events in the first 3 days', 'Events after 3 days')\n",
    "    merged_df = pd.concat([nearby_evs_1, post_cat], axis=0)\n",
    "\n",
    "    # Reset dell'indice, se necessario\n",
    "    merged_df.reset_index(drop=True, inplace=True)\n",
    "\n",
    "    # fig=go.Figure()\n",
    "    # fig.add_trace(go.Scatter(x=merged_df['fulldate'], y=merged_df['mag'], mode='markers', marker_color=merged_df['Color'] ))\n",
    "\n",
    "    fig=px.scatter(merged_df, x='fulldate', y='mag', color='Time window',labels={'fulldate': 'Date', 'mag': 'Magnitude'}, size='mag')\n",
    "    fig.add_shape(\n",
    "        go.layout.Shape(\n",
    "            type=\"line\",\n",
    "            x0=mainevent['fulldate'],\n",
    "            x1=mainevent['fulldate'],\n",
    "            y0=0,\n",
    "            y1=10,\n",
    "            line=dict(color=\"black\", width=3, dash='dash')\n",
    "        )\n",
    "    )\n",
    "\n",
    "    fig.add_trace(\n",
    "        go.Scatter(\n",
    "            x=[mainevent['fulldate']],\n",
    "            y=[mainevent['mag']],\n",
    "            mode=\"markers\",\n",
    "            marker=dict(symbol=\"star\", size=20, color=\"firebrick\"),\n",
    "            name='Main event'\n",
    "\n",
    "        )\n",
    "    )\n",
    "    fig.update_layout(\n",
    "        plot_bgcolor='white',  # Sfondo bianco\n",
    "        xaxis=dict(showgrid=True, gridcolor='grey', showline=True, linecolor='black', linewidth=2),  # Griglia nera per l'asse x con contorno\n",
    "        yaxis=dict(showgrid=True, gridcolor='grey', showline=True, linecolor='black', linewidth=2),  # Griglia nera per l'asse y con contorno\n",
    "        title= 'Magnitude vs Time'\n",
    "    )\n",
    "\n",
    "    fig.update_yaxes(range=[1, mainevent['mag']+0.5]) \n",
    "    fig.update_xaxes(range=[mainevent['fulldate']-pd.DateOffset(hours=3), mainevent['fulldate']+pd.DateOffset(days=7)]) \n",
    "    fig.show()\n",
    "\n",
    "scatter_plot_evs(folder)\n",
    "\n"
   ]
  },
  {
   "cell_type": "markdown",
   "id": "332667ba",
   "metadata": {},
   "source": [
    "## 3D scatter plot"
   ]
  },
  {
   "cell_type": "code",
   "execution_count": null,
   "id": "efd91d34",
   "metadata": {},
   "outputs": [],
   "source": [
    "def plot_box_3d(folder):\n",
    "    import os\n",
    "    import pandas as pd\n",
    "    import json\n",
    "    from datetime import datetime, timedelta\n",
    "    active_plane_path=os.path.join(folder,'calc_parts','active_planes.json')\n",
    "    # Apri il file in modalità lettura e carica il contenuto come oggetto Python\n",
    "    with open(active_plane_path, \"r\") as json_file:\n",
    "        active_plane = json.load(json_file)\n",
    "\n",
    "    with open(os.path.join(folder,'config', 'main_event.json'), \"r\") as json_file:\n",
    "        mainevt = json.load(json_file)\n",
    "\n",
    "        mainevent = pd.Series(mainevt)\n",
    "        mainevent['fulldate'] = datetime(**mainevent[['year', 'day', 'month', 'hour', 'minute']].astype(int).to_dict()\n",
    "                                         ) + timedelta(seconds=mainevent.at['second'])\n",
    "    ap_name=active_plane['name']\n",
    "    # soon evs \n",
    "    nome_file = 'catalog_during_plane_determination_period_1_hr.csv'\n",
    "\n",
    "    # Crea il percorso completo al file CSV\n",
    "    percorso_completo = os.path.join(folder,'catalog', nome_file)\n",
    "\n",
    "    # Carica il file CSV in un DataFrame\n",
    "    soon_evs = pd.read_csv(percorso_completo, index_col=False)\n",
    "\n",
    "\n",
    "    def get_isin_col(plane):\n",
    "        return f\"in {plane['name']}\"\n",
    "\n",
    "    in_plane_region = soon_evs[get_isin_col(active_plane)]\n",
    "    nearby_evs_1 = soon_evs[in_plane_region]\n",
    "    nearby_evs_1['fulldate'] = pd.to_datetime(nearby_evs_1['fulldate'])\n",
    "    nearby_evs_1['Time window']='Events in the first hour'\n",
    "    # Crea il percorso completo al file CSV\n",
    "    percorso_completo = os.path.join(folder,'calc_parts',active_plane['name']+'_post_cat.csv' )\n",
    "\n",
    "    # Carica il file CSV in un DataFrame\n",
    "    post_cat = pd.read_csv(percorso_completo, index_col=False)\n",
    "    post_cat['fulldate'] = pd.to_datetime(post_cat['fulldate'])\n",
    "    reference_date = mainevent['fulldate'] + pd.DateOffset(days=3)\n",
    "\n",
    "    # Crea la colonna \"Color\" in base alla condizione\n",
    "    post_cat['Time window'] = np.where(post_cat['fulldate'] < reference_date, 'Events in the first 3 days', 'Events after 3 days')\n",
    "    merged_df = pd.concat([nearby_evs_1, post_cat], axis=0)\n",
    "\n",
    "    # Reset dell'indice, se necessario\n",
    "    merged_df.reset_index(drop=True, inplace=True)\n",
    "\n",
    "    fig = px.scatter_3d(merged_df, x='lon', y='lat', z='depth', color='mag', opacity=0.7)\n",
    "    fig.update_scenes(zaxis=dict(range=[merged_df['depth'].max(), merged_df['depth'].min()]))\n",
    "    fig.update_traces(marker=dict(size=2))\n",
    "    line_trace = go.Scatter3d(\n",
    "        x=active_plane['lon'] + [active_plane['lon'][0]],  # Aggiungi il primo elemento alla fine per chiudere il poligono\n",
    "        y=active_plane['lat'] + [active_plane['lat'][0]],  # Aggiungi il primo elemento alla fine per chiudere il poligono\n",
    "        z=active_plane['depth'] + [active_plane['depth'][0]],  # Aggiungi il primo elemento alla fine per chiudere il poligono\n",
    "        mode='lines',\n",
    "        line=dict(color='red', width=3),  # Personalizza colore e spessore della linea\n",
    "        name='Active plane'\n",
    "\n",
    "    )\n",
    "\n",
    "    fig.add_trace(line_trace)\n",
    "    polygon_trace = go.Mesh3d(\n",
    "        x=active_plane['lon'] + [active_plane['lon'][0]],  # Aggiungi il primo elemento alla fine per chiudere il poligono\n",
    "        y=active_plane['lat'] + [active_plane['lat'][0]],  # Aggiungi il primo elemento alla fine per chiudere il poligono\n",
    "        z=active_plane['depth'] + [active_plane['depth'][0]],  # Aggiungi il primo elemento alla fine per chiudere il poligono\n",
    "        opacity=0.5,  # Imposta l'opacità del colore\n",
    "        color='red'  # Imposta il colore di riempimento del poligono\n",
    "    )\n",
    "\n",
    "    # Aggiungi la traccia del poligono al grafico\n",
    "    fig.add_trace(polygon_trace)\n",
    "    fig.update_layout(\n",
    "    plot_bgcolor='white',  # Sfondo bianco\n",
    "    xaxis=dict(showgrid=True, gridcolor='grey', showline=True, linecolor='black', linewidth=2),  # Griglia nera per l'asse x con contorno\n",
    "    yaxis=dict(showgrid=True, gridcolor='grey', showline=True, linecolor='black', linewidth=2),  # Griglia nera per l'asse y con contorno\n",
    "    title= '3D box'\n",
    "    )\n",
    "    fig.show()"
   ]
  },
  {
   "cell_type": "code",
   "execution_count": null,
   "id": "23b58f37",
   "metadata": {},
   "outputs": [],
   "source": [
    "\n",
    "folder = r'C:\\Users\\MANU\\PycharmProjects\\ftls_v11-4CLASSES_sensitivity\\ftls_events\\1983_05_02_T_23_42_38_M67CAL_staking'\n",
    "plot_box_3d(folder)\n"
   ]
  },
  {
   "cell_type": "markdown",
   "id": "4b0b7b58",
   "metadata": {},
   "source": [
    "## b value time serie"
   ]
  },
  {
   "cell_type": "code",
   "execution_count": null,
   "id": "08f69791",
   "metadata": {},
   "outputs": [],
   "source": [
    "def temporal_series_b(folder):\n",
    "    import plotly.graph_objects as go\n",
    "    import os\n",
    "    import os\n",
    "    import pandas as pd\n",
    "    import json\n",
    "    from datetime import datetime, timedelta\n",
    "\n",
    "    # Imposta il percorso della cartella\n",
    "\n",
    "    # Imposta il nome del file CSV\n",
    "    nome_file = 'post_serie.csv'\n",
    "\n",
    "    # Crea il percorso completo al file CSV\n",
    "    percorso_completo = os.path.join(folder,'calc_parts', nome_file)\n",
    "\n",
    "    # Carica il file CSV in un DataFrame\n",
    "    df = pd.read_csv(percorso_completo, index_col=False)\n",
    "    df['last_date'] = pd.to_datetime(df['last_date'])\n",
    "\n",
    "    with open(os.path.join(folder,'calc_parts', 'PRE_general_results.json'), \"r\") as json_file:\n",
    "        PRE_results = json.load(json_file)\n",
    "\n",
    "\n",
    "    with open(active_plane_path, \"r\") as json_file:\n",
    "        active_plane = json.load(json_file)\n",
    "    \n",
    "    with open(os.path.join(folder,'config', 'main_event.json'), \"r\") as json_file:\n",
    "        mainevt = json.load(json_file)\n",
    "\n",
    "        mainevent = pd.Series(mainevt)\n",
    "        mainevent['fulldate'] = datetime(**mainevent[['year', 'day', 'month', 'hour', 'minute']].astype(int).to_dict()\n",
    "                                         ) + timedelta(seconds=mainevent.at['second'])\n",
    "\n",
    "\n",
    "\n",
    "    ap_name=active_plane['name']\n",
    "    pre_data=PRE_results[f\"{active_plane['name']}\"]\n",
    "    if not np.isnan(pre_data['b_reference_from_ts']):\n",
    "        b_ref=pre_data['b_reference_from_ts']\n",
    "    else:\n",
    "        b_ref = pre_data['b_unic']\n",
    "\n",
    "    fig=go.Figure()\n",
    "    # banda colorata\n",
    "    b_ref_90=b_ref*0.9\n",
    "    b_ref_110=b_ref*1.1\n",
    "\n",
    "    fig.add_trace(go.Scatter(x=[mainevent['fulldate'], df['last_date'].iloc[-1], df['last_date'].iloc[-1],mainevent['fulldate'],mainevent['fulldate']],\n",
    "                             y=[0, 0, b_ref_90, b_ref_90,0], fill='toself',mode='lines', line=dict(width=0, color='red'), name='<90%'))\n",
    "    fig.add_trace(go.Scatter(x=[mainevent['fulldate'], df['last_date'].iloc[-1], df['last_date'].iloc[-1], mainevent['fulldate'], mainevent['fulldate']],\n",
    "                             y=[b_ref_90, b_ref_90, b_ref, b_ref,b_ref_90], fill='toself',mode='lines', line=dict(width=0, color='orange'), name='90-100%'))\n",
    "\n",
    "    fig.add_trace(go.Scatter(x=[mainevent['fulldate'], df['last_date'].iloc[-1], df['last_date'].iloc[-1], mainevent['fulldate'], mainevent['fulldate']],\n",
    "                             y=[b_ref, b_ref, b_ref_110, b_ref_110,b_ref], fill='toself',mode='lines', line=dict(width=0, color='yellow'), name='100-110%'))\n",
    "    fig.add_trace(go.Scatter(x=[mainevent['fulldate'], df['last_date'].iloc[-1], df['last_date'].iloc[-1], mainevent['fulldate'], mainevent['fulldate']],\n",
    "                             y=[b_ref_110, b_ref_110, 3, 3,b_ref_110], fill='toself',mode='lines', line=dict(width=0, color='green'), name='>110%'))\n",
    "\n",
    "    # linea ref\n",
    "    fig.add_trace(go.Scatter(x=[mainevent['fulldate'], df['last_date'].max()],\n",
    "                             y=[b_ref, b_ref], mode='lines', name='b reference', line=dict(color='black')))\n",
    "\n",
    "\n",
    "\n",
    "\n",
    "    fig.add_trace(go.Scatter(x=df['last_date'], y=df['bv_window'], mode='lines', name='bv',\n",
    "                             line=dict(color='blue', width=2, dash='solid')))\n",
    "    fig.add_trace(go.Scatter(x=df['last_date'], y=df['b_plus_sigma1'], mode='lines', name='bv+Sigma',\n",
    "                             line=dict(color='grey', width=2, dash='dot')))\n",
    "    fig.add_trace(go.Scatter(x=df['last_date'], y=df['b_minus_sigma1'], mode='lines', name='bv-Sigma', \n",
    "                            line=dict(color='grey', width=2, dash='dot')))\n",
    "\n",
    "\n",
    "\n",
    "\n",
    "    # Imposta il template su 'plotly' per lo sfondo bianco e la griglia grigia\n",
    "    fig.update_layout(\n",
    "        plot_bgcolor='white',  # Sfondo bianco\n",
    "        xaxis=dict(showgrid=True, gridcolor='grey', showline=True, linecolor='black', linewidth=3, ticks='outside'),  # Griglia nera per l'asse x con contorno\n",
    "        yaxis=dict(showgrid=True, gridcolor='grey', showline=True, linecolor='black', linewidth=3, ticks='outside'),\n",
    "        title='b-value temporal serie (first 3 days)',\n",
    "        yaxis_title='bv',\n",
    "        xaxis_title='Date'# Griglia nera per l'asse y con contorno\n",
    "    )\n",
    "    fig.add_annotation(\n",
    "        text=f'b reference: {b_ref}',  # Testo da mostrare\n",
    "        xref='paper',  # Riferimento x (in questo caso, carta)\n",
    "        yref='paper',  # Riferimento y (in questo caso, carta)\n",
    "        x=0.5,  # Coordinata x della casella di testo (tra 0 e 1)\n",
    "        y=0.9,  # Coordinata y della casella di testo (tra 0 e 1)\n",
    "        showarrow=False,  # Non mostrare la freccia\n",
    "        font=dict(size=20, color=\"black\")\n",
    "\n",
    "    )\n",
    "\n",
    "    fig.update_yaxes(range=[0.5, 1.5]) \n",
    "    fig.update_xaxes(range=[mainevent['fulldate'], mainevent['fulldate'] + pd.DateOffset(days=3)]) \n",
    "    fig.show()\n",
    "    \n",
    "################    \n",
    "folder = r'C:\\Users\\MANU\\PycharmProjects\\ftls_v11-4CLASSES_sensitivity\\ftls_events\\1983_05_02_T_23_42_38_M67CAL_staking'\n",
    "temporal_series_b(folder)"
   ]
  },
  {
   "cell_type": "markdown",
   "id": "94a39a35",
   "metadata": {},
   "source": [
    "## plot valori in percentuale "
   ]
  },
  {
   "cell_type": "code",
   "execution_count": null,
   "id": "8cbb3fe5",
   "metadata": {},
   "outputs": [],
   "source": [
    "folder = r'C:\\Users\\MANU\\PycharmProjects\\ftls_v11-4CLASSES_sensitivity\\ftls_events\\1983_05_02_T_23_42_38_M67CAL_staking'\n",
    "\n",
    "def alert_status_plot(folder):\n",
    "    import plotly.graph_objects as go\n",
    "    import os\n",
    "    import pandas as pd\n",
    "    import json\n",
    "    from datetime import datetime, timedelta\n",
    "    import plotly.express as px\n",
    "\n",
    "    # Imposta il percorso della cartella\n",
    "\n",
    "    # Imposta il nome del file CSV\n",
    "    nome_file = 'post_serie.csv'\n",
    "\n",
    "    # Crea il percorso completo al file CSV\n",
    "    percorso_completo = os.path.join(folder,'calc_parts', nome_file)\n",
    "\n",
    "    # Carica il file CSV in un DataFrame\n",
    "    post_data = pd.read_csv(percorso_completo, index_col=False)\n",
    "    post_data['last_date'] = pd.to_datetime(post_data['last_date'])\n",
    "\n",
    "    with open(os.path.join(folder,'calc_parts', 'PRE_general_results.json'), \"r\") as json_file:\n",
    "        PRE_results = json.load(json_file)\n",
    "\n",
    "\n",
    "    with open(active_plane_path, \"r\") as json_file:\n",
    "        active_plane = json.load(json_file)\n",
    "\n",
    "    with open(os.path.join(folder,'config', 'main_event.json'), \"r\") as json_file:\n",
    "        mainevt = json.load(json_file)\n",
    "\n",
    "        mainevent = pd.Series(mainevt)\n",
    "        mainevent['fulldate'] = datetime(**mainevent[['year', 'day', 'month', 'hour', 'minute']].astype(int).to_dict()\n",
    "                                         ) + timedelta(seconds=mainevent.at['second'])\n",
    "\n",
    "\n",
    "\n",
    "    ap_name=active_plane['name']\n",
    "    pre_data=PRE_results[f\"{active_plane['name']}\"]\n",
    "    if not np.isnan(pre_data['b_reference_from_ts']):\n",
    "        b_ref=pre_data['b_reference_from_ts']\n",
    "    else:\n",
    "        b_ref = pre_data['b_unic']\n",
    "\n",
    "\n",
    "    ##########################################################\n",
    "    time_interval = pd.Timedelta(hours=12)\n",
    "    time_interval_g = pd.Timedelta(hours=12)\n",
    "    max_values = pd.DataFrame()\n",
    "    min_values = pd.DataFrame()\n",
    "    start_date_v = mainevent['fulldate']\n",
    "    start_date_g = start_date_v\n",
    "    p_max_lim=int(np.max(np.concatenate((np.array([130]), np.array([np.max(post_data['B_perc'])]))))+5)\n",
    "    p_min_lim=int(np.min(np.concatenate((np.array([70]), np.array([np.min(post_data['B_perc'])]))))-5)\n",
    "\n",
    "\n",
    "    while start_date_v+time_interval <= post_data['last_date'].max()+pd.Timedelta(hours=1):\n",
    "            # seleziona i dati a partire dalla data di partenza e fino a 12 ore dopo\n",
    "            filtered_data =post_data[\n",
    "                (post_data['last_date'] >= start_date_v) & (post_data['last_date'] < start_date_v + time_interval)].reset_index(drop=True)\n",
    "\n",
    "            filtered_data_gcheck=post_data[(post_data['last_date'] >= start_date_g)\n",
    "                                             & (post_data['last_date'] < start_date_g + time_interval_g)].reset_index(drop=True)\n",
    "\n",
    "\n",
    "\n",
    "            if filtered_data_gcheck['B_perc'].max()>110:\n",
    "                max_value = pd.DataFrame({\n",
    "                    'fulldate': [start_date_g + time_interval_g],\n",
    "                    'b_perc': [filtered_data_gcheck['B_perc'].max()]\n",
    "                })\n",
    "\n",
    "                min_value = pd.DataFrame({\n",
    "                    'fulldate': [start_date_v + time_interval],\n",
    "                    'b_perc': [filtered_data['B_perc'].median()]\n",
    "                })\n",
    "            else:\n",
    "                # calcola il massimo della colonna \"b_perc\"\n",
    "                max_value = pd.DataFrame({\n",
    "                    'fulldate': [start_date_g + time_interval_g],\n",
    "                    'b_perc': [filtered_data_gcheck['B_perc'].max()]\n",
    "                })\n",
    "                min_value = pd.DataFrame({\n",
    "                    'fulldate': [start_date_v+ time_interval],\n",
    "                    'b_perc': [filtered_data['B_perc'].median()]\n",
    "                })\n",
    "\n",
    "            # aggiungi il massimo alla lista\n",
    "            max_values = pd.concat([max_values, max_value])\n",
    "            max_values = max_values.dropna(subset=['b_perc'], axis=0)\n",
    "            min_values = pd.concat([min_values, min_value])\n",
    "            min_values = min_values.dropna(subset=['b_perc'], axis=0)\n",
    "\n",
    "            # incrementa la data di partenza di 12 ore\n",
    "            time_interval += pd.Timedelta(hours=12)\n",
    "            start_date_g += time_interval_g\n",
    "\n",
    "    def assign_color(row):\n",
    "        if row['b_perc'] >= 110:\n",
    "            return 'b > 110%'\n",
    "        elif row['b_perc'] >= 90 and row['b_perc'] <=100:\n",
    "            return '90% < b < 100%'\n",
    "        elif row['b_perc'] > 100 and row['b_perc'] <=110:\n",
    "            return '100% < b < 110%'\n",
    "        elif row['b_perc'] < 90:\n",
    "            return 'b < 90%'\n",
    "    max_values['Alert status'] = max_values.apply(assign_color, axis=1)\n",
    "    max_values = max_values.reset_index(drop=True)\n",
    "\n",
    "\n",
    "    ##########################################################\n",
    "    # fig.add_trace(go.Scatter(x=[mainevent['fulldate'],  post_data['last_date'].max()],\n",
    "    #                         y=[100, 100], mode='lines', name='b reference', line=dict(color='black')))\n",
    "    # fig.add_trace(go.Scatter(x=[mainevent['fulldate'],  post_data['last_date'].max()],\n",
    "    #                         y=[110, 110], mode='lines', name='b reference', line=dict(color='green')))\n",
    "    # Crea il tuo plot\n",
    "    fig = px.scatter(max_values, x='fulldate', y='b_perc', color='Alert status', color_discrete_map={\n",
    "        'b > 110%': 'green',\n",
    "        '90% < b < 100%': 'orange',\n",
    "        '100% < b < 110%': 'yellow',\n",
    "        'b < 90%': 'red'\n",
    "    })\n",
    "    fig.update_traces(\n",
    "        marker=dict(size=15, line=dict(width=2, color='black'))\n",
    "    )\n",
    "\n",
    "\n",
    "\n",
    "\n",
    "    fig.add_trace(go.Scatter(x=[mainevent['fulldate'], post_data['last_date'].max()],\n",
    "                            y=[100, 100], mode='lines', name='b reference', line=dict(color='black', dash='dash')))\n",
    "\n",
    "    fig.add_trace(go.Scatter(x=[mainevent['fulldate'], post_data['last_date'].max()],\n",
    "                            y=[110, 110], mode='lines', name='b=110%', line=dict(color='green')))\n",
    "    fig.add_trace(go.Scatter(x=[mainevent['fulldate'], post_data['last_date'].max()],\n",
    "                            y=[90, 90], mode='lines', name='b=90%', line=dict(color='red')))\n",
    "\n",
    "    fig.update_traces(\n",
    "        marker=dict(size=15, line=dict(width=2, color='black'))\n",
    "    )\n",
    "\n",
    "\n",
    "    # Aggiungi un titolo\n",
    "    fig.update_layout(title='Alert status')\n",
    "    fig.update_layout(\n",
    "        plot_bgcolor='white',  # Sfondo bianco\n",
    "        xaxis=dict(showgrid=True, gridcolor='grey', showline=True, linecolor='black', linewidth=3, ticks='outside'),  # Griglia nera per l'asse x con contorno\n",
    "        yaxis=dict(showgrid=True, gridcolor='grey', showline=True, linecolor='black', linewidth=3, ticks='outside'),\n",
    "        title='b-value temporal serie (first 3 days)',\n",
    "        yaxis_title='b%',\n",
    "        xaxis_title='Date'# Griglia nera per l'asse y con contorno\n",
    "    )\n",
    "    # Mostra il grafico\n",
    "    start_date = mainevent['fulldate']\n",
    "\n",
    "    # Calcola la data di fine aggiungendo 3 mesi\n",
    "    end_date = start_date + pd.DateOffset(months=3)\n",
    "\n",
    "    # Calcola il numero di ticks necessari (ogni 12 ore)\n",
    "    num_ticks = int((end_date - start_date).total_seconds() / 3600 / 12) + 1\n",
    "\n",
    "    # Genera i valori dei ticks\n",
    "    tick_values = pd.date_range(start=start_date, periods=num_ticks, freq='12H')\n",
    "    tick_labels = [tick.strftime('%Y-%m-%d %H:%M') for tick in tick_values]\n",
    "    fig.update_xaxes(\n",
    "        tickvals=tick_values,\n",
    "        ticktext=tick_labels,\n",
    "        tickangle=-45\n",
    "    )\n",
    "\n",
    "    fig.update_xaxes(range=[mainevent['fulldate'], mainevent['fulldate'] + pd.DateOffset(days=3.1)]) \n",
    "    fig.update_yaxes(range=[p_min_lim, p_max_lim])\n",
    "    fig.show()\n",
    "\n",
    "alert_status_plot(folder)  \n",
    "    \n",
    "    \n",
    "\n"
   ]
  },
  {
   "cell_type": "code",
   "execution_count": 28,
   "id": "c9aeeef5",
   "metadata": {},
   "outputs": [
    {
     "data": {
      "text/markdown": [
       "| Earthquake   | Date                       |   Magnitude |   b_ref |   b-Max3 |   b-Max7 |   b-Max30 |   b-Max90 |   Strike |   Dip |   Rake | Fault type   |\n",
       "|:-------------|:---------------------------|------------:|--------:|---------:|---------:|----------:|----------:|---------:|------:|-------:|:-------------|\n",
       "| Coalinga     | 1983-05-02 23:42:38.060000 |         6.7 |    0.75 |   128.54 |   128.54 |    136.32 |    136.32 |      320 |    30 |     87 | TH           |"
      ],
      "text/plain": [
       "<IPython.core.display.Markdown object>"
      ]
     },
     "metadata": {},
     "output_type": "display_data"
    }
   ],
   "source": [
    "folder = r'C:\\Users\\MANU\\PycharmProjects\\ftls_v11-4CLASSES_sensitivity\\ftls_events\\1983_05_02_T_23_42_38_M67CAL_staking'\n",
    "earthquake='Coalinga'\n",
    "\n",
    "\n",
    "def table_specific(folder, earthquake):\n",
    "    import numpy as np\n",
    "    nome_file = 'post_serie.csv'\n",
    "\n",
    "    # Crea il percorso completo al file CSV\n",
    "    percorso_completo = os.path.join(folder,'calc_parts', nome_file)\n",
    "\n",
    "    post_data = pd.read_csv(percorso_completo, index_col=False)\n",
    "    post_data['last_date'] = pd.to_datetime(post_data['last_date'])\n",
    "\n",
    "    first_3_days = post_data[post_data['last_date'] <= post_data['last_date'].min() + pd.Timedelta(days=3)]\n",
    "\n",
    "    # Trova il massimo valore di B_perc nei primi 3 giorni\n",
    "    b_max3 = first_3_days['B_perc'].max()\n",
    "\n",
    "    first_7_days = post_data[post_data['last_date'] <= post_data['last_date'].min() + pd.Timedelta(days=7)]\n",
    "    b_max7 = first_7_days['B_perc'].max()\n",
    "\n",
    "    first_30_days = post_data[post_data['last_date'] <= post_data['last_date'].min() + pd.Timedelta(days=30)]\n",
    "    b_max30 = first_30_days['B_perc'].max()\n",
    "\n",
    "    first_90_days = post_data[post_data['last_date'] <= post_data['last_date'].min() + pd.Timedelta(days=90)]\n",
    "    b_max90 = first_90_days['B_perc'].max()\n",
    "\n",
    "    with open(os.path.join(folder,'config', 'main_event.json'), \"r\") as json_file:\n",
    "        mainevt = json.load(json_file)\n",
    "\n",
    "        mainevent = pd.Series(mainevt)\n",
    "        mainevent['fulldate'] = datetime(**mainevent[['year', 'day', 'month', 'hour', 'minute']].astype(int).to_dict()\n",
    "                                         ) + timedelta(seconds=mainevent.at['second'])\n",
    "\n",
    "    active_plane_path = os.path.join(folder, 'calc_parts', 'active_planes.json')\n",
    "    # Apri il file in modalità lettura e carica il contenuto come oggetto Python\n",
    "    with open(active_plane_path, \"r\") as json_file:\n",
    "        active_plane = json.load(json_file)\n",
    "\n",
    "    ap_name = active_plane['name']\n",
    "\n",
    "    with open(os.path.join(folder, 'calc_parts', 'PRE_general_results.json'), \"r\") as json_file:\n",
    "        PRE_results = json.load(json_file)\n",
    "    pre_data = PRE_results[f\"{active_plane['name']}\"]\n",
    "    if not np.isnan(pre_data['b_reference_from_ts']):\n",
    "        b_ref = pre_data['b_reference_from_ts']\n",
    "    else:\n",
    "        b_ref = pre_data['b_unic']\n",
    "    import numpy as np\n",
    "    nuova_riga = {\n",
    "        'Earthquake': earthquake,\n",
    "        'Date': mainevent['fulldate'],\n",
    "        'Magnitude': mainevent['mag'],\n",
    "        'b_ref': b_ref,\n",
    "        'b-Max3': round(b_max3,2),\n",
    "        'b-Max7': round(b_max7,2),\n",
    "        'b-Max30': round(b_max30,2),\n",
    "        'b-Max90': round(b_max90,2),\n",
    "        'Strike': active_plane['strike'],\n",
    "        'Dip': active_plane['dip'],\n",
    "        'Rake': active_plane['rake'],\n",
    "        'Fault type': active_plane['type']\n",
    "    }\n",
    "    df_nuova_riga = pd.DataFrame([nuova_riga])\n",
    "    return df_nuova_riga\n",
    "\n",
    "df_nuova_riga=table_specific(folder, earthquake)\n",
    "from IPython.display import display, Markdown\n",
    "df_nuova_riga = df_nuova_riga.to_markdown(index=False)\n",
    "display(Markdown(df_nuova_riga))"
   ]
  },
  {
   "cell_type": "code",
   "execution_count": null,
   "id": "6ae24704",
   "metadata": {},
   "outputs": [],
   "source": []
  },
  {
   "cell_type": "code",
   "execution_count": 24,
   "id": "8470b8be",
   "metadata": {},
   "outputs": [
    {
     "data": {
      "text/markdown": [
       "| Earthquake   | Date                       |   Magnitude |   b_ref |   b-Max3 |   b-Max7 |   b-Max30 |   b-Max90 |   Strike |   Dip |   Rake | Fault type   |\n",
       "|:-------------|:---------------------------|------------:|--------:|---------:|---------:|----------:|----------:|---------:|------:|-------:|:-------------|\n",
       "| Coalinga     | 1983-05-02 23:42:38.060000 |         6.7 |    0.75 |   128.54 |   128.54 |    136.32 |    136.32 |      320 |    30 |     87 | TH           |"
      ],
      "text/plain": [
       "<IPython.core.display.Markdown object>"
      ]
     },
     "metadata": {},
     "output_type": "display_data"
    }
   ],
   "source": [
    "from IPython.display import display, Markdown\n",
    "df_nuova_riga = df_nuova_riga.to_markdown(index=False)\n",
    "display(Markdown(df_nuova_riga))"
   ]
  },
  {
   "cell_type": "code",
   "execution_count": null,
   "id": "6aeca109",
   "metadata": {},
   "outputs": [],
   "source": [
    "max_B_perc_in_first_3_days\n"
   ]
  },
  {
   "cell_type": "code",
   "execution_count": 18,
   "id": "abff00da",
   "metadata": {},
   "outputs": [
    {
     "data": {
      "text/plain": [
       "55.00000000000001"
      ]
     },
     "execution_count": 18,
     "metadata": {},
     "output_type": "execute_result"
    }
   ],
   "source": [
    "100+((0.75-1.2)/1.2)*100"
   ]
  },
  {
   "cell_type": "code",
   "execution_count": null,
   "id": "19a5ecc6",
   "metadata": {},
   "outputs": [],
   "source": []
  },
  {
   "cell_type": "code",
   "execution_count": null,
   "id": "49016427",
   "metadata": {},
   "outputs": [],
   "source": [
    "\n",
    "\n"
   ]
  },
  {
   "cell_type": "code",
   "execution_count": null,
   "id": "c49c275c",
   "metadata": {},
   "outputs": [],
   "source": [
    "\n",
    "\n"
   ]
  },
  {
   "cell_type": "code",
   "execution_count": null,
   "id": "feb07c25",
   "metadata": {},
   "outputs": [],
   "source": []
  },
  {
   "cell_type": "code",
   "execution_count": null,
   "id": "5b079afc",
   "metadata": {},
   "outputs": [],
   "source": [
    "\n"
   ]
  },
  {
   "cell_type": "code",
   "execution_count": null,
   "id": "28502baf",
   "metadata": {},
   "outputs": [],
   "source": []
  },
  {
   "cell_type": "code",
   "execution_count": null,
   "id": "5570ca69",
   "metadata": {},
   "outputs": [],
   "source": []
  }
 ],
 "metadata": {
  "celltoolbar": "Attachments",
  "kernelspec": {
   "display_name": "Python 3 (ipykernel)",
   "language": "python",
   "name": "python3"
  },
  "language_info": {
   "codemirror_mode": {
    "name": "ipython",
    "version": 3
   },
   "file_extension": ".py",
   "mimetype": "text/x-python",
   "name": "python",
   "nbconvert_exporter": "python",
   "pygments_lexer": "ipython3",
   "version": "3.9.7"
  }
 },
 "nbformat": 4,
 "nbformat_minor": 5
}
